{
 "cells": [
  {
   "cell_type": "markdown",
   "metadata": {
    "id": "Q91KqmCRu64D"
   },
   "source": [
    "# **Project - Convolutional Neural Networks: Street View Housing Number Digit Recognition**\n",
    "\n",
    "The project uses Convolutional Neural Networks to classify the Street View Housing Numbers (SVHN) image dataset for this project.\n",
    "\n",
    "---\n",
    "### **Context:** \n",
    "---\n",
    "\n",
    "Deep learning can be applied to recognize objects in natural scenes. The ability to process visual information using machine learning algorithms can be very useful as demonstrated in various applications.\n",
    "\n",
    "The SVHN dataset contains over 600,000 labeled digits cropped from street-level photos. It is one of the most popular image recognition datasets. It has been used in neural networks created by Google to improve map quality by automatically transcribing the address numbers from a patch of pixels. The transcribed number with a known street address helps pinpoint the location of the building it represents. \n",
    "\n",
    "---\n",
    "### **Objective:**\n",
    "---\n",
    "\n",
    "Build a CNN model that can identify the digits in the images.\n",
    "\n",
    "---\n",
    "### **Dataset**\n",
    "---\n",
    "\n",
    "The data is part of a Kaggle competition and can be downloaded at: https://www.kaggle.com/stanfordu/street-view-house-numbers\n",
    "Here, we will use a subset of the original data to save some computation time. The dataset is provided as a .h5 file. The basic preprocessing steps have been done."
   ]
  },
  {
   "cell_type": "markdown",
   "metadata": {
    "id": "C8U3DUa3eNsT"
   },
   "source": [
    "## **Importing libraries**"
   ]
  },
  {
   "cell_type": "code",
   "execution_count": 2,
   "metadata": {
    "executionInfo": {
     "elapsed": 6006,
     "status": "ok",
     "timestamp": 1644315110144,
     "user": {
      "displayName": "Francesco Parisio",
      "photoUrl": "https://lh3.googleusercontent.com/a/default-user=s64",
      "userId": "12644213594811515612"
     },
     "user_tz": -60
    },
    "id": "-dVzeuF3eQx1"
   },
   "outputs": [],
   "source": [
    "import numpy as np\n",
    "import pandas as pd\n",
    "import matplotlib.pyplot as plt\n",
    "import seaborn as sns\n",
    "\n",
    "from sklearn.model_selection import train_test_split\n",
    "from sklearn.preprocessing import MinMaxScaler\n",
    "\n",
    "import tensorflow as tf\n",
    "from tensorflow.keras.models import Sequential\n",
    "from tensorflow.keras.layers import Dense, Conv2D, MaxPool2D, BatchNormalization, Dropout, Flatten, LeakyReLU\n",
    "from tensorflow.keras.utils import to_categorical"
   ]
  },
  {
   "cell_type": "markdown",
   "metadata": {
    "id": "ucnevGLoyKf_"
   },
   "source": [
    "Check for the version of TensorFlow."
   ]
  },
  {
   "cell_type": "code",
   "execution_count": 3,
   "metadata": {
    "colab": {
     "base_uri": "https://localhost:8080/"
    },
    "executionInfo": {
     "elapsed": 230,
     "status": "ok",
     "timestamp": 1644315112753,
     "user": {
      "displayName": "Francesco Parisio",
      "photoUrl": "https://lh3.googleusercontent.com/a/default-user=s64",
      "userId": "12644213594811515612"
     },
     "user_tz": -60
    },
    "id": "W5as47YxyJVk",
    "outputId": "6f575ca4-08ab-4e74-df69-09928e2e3e6e"
   },
   "outputs": [
    {
     "name": "stdout",
     "output_type": "stream",
     "text": [
      "2.7.0\n"
     ]
    }
   ],
   "source": [
    "print(tf.__version__)"
   ]
  },
  {
   "cell_type": "markdown",
   "metadata": {
    "id": "8lsux2ZwyTTR"
   },
   "source": [
    "## **Load the dataset**\n",
    "- The dataset is a .h5 file (not available in the repo --> can be downloaded at https://www.kaggle.com/stanfordu/street-view-house-numbers)\n",
    "- The data is split into train and the test to avoid overfit"
   ]
  },
  {
   "cell_type": "code",
   "execution_count": 4,
   "metadata": {
    "colab": {
     "base_uri": "https://localhost:8080/"
    },
    "executionInfo": {
     "elapsed": 1490,
     "status": "ok",
     "timestamp": 1644315680602,
     "user": {
      "displayName": "Francesco Parisio",
      "photoUrl": "https://lh3.googleusercontent.com/a/default-user=s64",
      "userId": "12644213594811515612"
     },
     "user_tz": -60
    },
    "id": "BApX9qgNsqV0",
    "outputId": "d797f9e5-b48c-4020-c92f-dab930988f2b",
    "scrolled": true
   },
   "outputs": [
    {
     "name": "stdout",
     "output_type": "stream",
     "text": [
      "X_test\n",
      "X_train\n",
      "X_val\n",
      "y_test\n",
      "y_train\n",
      "y_val\n"
     ]
    }
   ],
   "source": [
    "import h5py\n",
    "\n",
    "# Download data at: https://www.kaggle.com/stanfordu/street-view-house-numbers\n",
    "\n",
    "# Open the file as read only\n",
    "# User can make changes in the path as required\n",
    "h5f = h5py.File('SVHN_single_grey1.h5', 'r')\n",
    "\n",
    "\n",
    "# Print the keys\n",
    "for key in h5f.keys():\n",
    "    print(key) #Names of the groups in HDF5 file.\n",
    "\n",
    "# Load the training and the test set\n",
    "X_train = h5f['X_train'][:]\n",
    "y_train = h5f['y_train'][:]\n",
    "X_test = h5f['X_test'][:]\n",
    "y_test = h5f['y_test'][:]\n",
    "X_val = h5f['X_val'][:]\n",
    "y_val = h5f['y_val'][:]\n",
    "\n",
    "# Close this file\n",
    "h5f.close()"
   ]
  },
  {
   "cell_type": "code",
   "execution_count": 5,
   "metadata": {
    "colab": {
     "base_uri": "https://localhost:8080/",
     "height": 283
    },
    "executionInfo": {
     "elapsed": 746,
     "status": "ok",
     "timestamp": 1644315312289,
     "user": {
      "displayName": "Francesco Parisio",
      "photoUrl": "https://lh3.googleusercontent.com/a/default-user=s64",
      "userId": "12644213594811515612"
     },
     "user_tz": -60
    },
    "id": "FowP8xuT0cXa",
    "outputId": "75d3ef3c-a0d6-4d98-b38d-03a7b063719d"
   },
   "outputs": [
    {
     "data": {
      "text/plain": [
       "<matplotlib.image.AxesImage at 0x7f4f6fb6dbb0>"
      ]
     },
     "execution_count": 5,
     "metadata": {},
     "output_type": "execute_result"
    },
    {
     "data": {
      "image/png": "[encoded data removed]",
      "text/plain": [
       "<Figure size 432x288 with 1 Axes>"
      ]
     },
     "metadata": {
      "needs_background": "light"
     },
     "output_type": "display_data"
    }
   ],
   "source": [
    "# Plot a random image for checking purposes\n",
    "plt.imshow(X_train[np.random.randint(0,X_train.shape[0]-1),:,:])"
   ]
  },
  {
   "cell_type": "code",
   "execution_count": 6,
   "metadata": {
    "colab": {
     "base_uri": "https://localhost:8080/"
    },
    "executionInfo": {
     "elapsed": 239,
     "status": "ok",
     "timestamp": 1644315726577,
     "user": {
      "displayName": "Francesco Parisio",
      "photoUrl": "https://lh3.googleusercontent.com/a/default-user=s64",
      "userId": "12644213594811515612"
     },
     "user_tz": -60
    },
    "id": "y3lwKpOefkpA",
    "outputId": "dafe5abc-4421-47fd-9295-0eb2aad1027f"
   },
   "outputs": [
    {
     "data": {
      "text/plain": [
       "(42000, 18000, 60000)"
      ]
     },
     "execution_count": 6,
     "metadata": {},
     "output_type": "execute_result"
    }
   ],
   "source": [
    "# Check the number of images in the training and testing data.\n",
    "len(X_train), len(X_test), len(X_val)"
   ]
  },
  {
   "cell_type": "markdown",
   "metadata": {
    "id": "akTUOfLlgwoM"
   },
   "source": [
    "**Observations**\n",
    "- There are 42,000 images in the training data and 18,000 images in the testing data. "
   ]
  },
  {
   "cell_type": "markdown",
   "metadata": {
    "id": "kxODV6HKykuc"
   },
   "source": [
    "## **Visualizing images**"
   ]
  },
  {
   "cell_type": "code",
   "execution_count": 52,
   "metadata": {
    "colab": {
     "base_uri": "https://localhost:8080/",
     "height": 95
    },
    "executionInfo": {
     "elapsed": 459,
     "status": "ok",
     "timestamp": 1639395772302,
     "user": {
      "displayName": "Francesco Parisio",
      "photoUrl": "https://lh3.googleusercontent.com/a/default-user=s64",
      "userId": "12644213594811515612"
     },
     "user_tz": -60
    },
    "id": "Bvsc8ytHsqWD",
    "outputId": "2e325ffe-6f7c-4ce1-c5a9-fa4365932ee7"
   },
   "outputs": [
    {
     "data": {
      "image/png": "[encoded data removed]",
      "text/plain": [
       "<Figure size 720x72 with 10 Axes>"
      ]
     },
     "metadata": {
      "needs_background": "light"
     },
     "output_type": "display_data"
    },
    {
     "name": "stdout",
     "output_type": "stream",
     "text": [
      "label for each of the above image: [[0. 0. 1. 0. 0. 0. 0. 0. 0. 0.]\n",
      " [0. 0. 0. 0. 0. 0. 1. 0. 0. 0.]\n",
      " [0. 0. 0. 0. 0. 0. 0. 1. 0. 0.]\n",
      " [0. 0. 0. 0. 1. 0. 0. 0. 0. 0.]\n",
      " [0. 0. 0. 0. 1. 0. 0. 0. 0. 0.]\n",
      " [1. 0. 0. 0. 0. 0. 0. 0. 0. 0.]\n",
      " [0. 0. 0. 1. 0. 0. 0. 0. 0. 0.]\n",
      " [1. 0. 0. 0. 0. 0. 0. 0. 0. 0.]\n",
      " [0. 0. 0. 0. 0. 0. 0. 1. 0. 0.]\n",
      " [0. 0. 0. 1. 0. 0. 0. 0. 0. 0.]]\n"
     ]
    }
   ],
   "source": [
    "# visualizing the first 10 images in the dataset and their labels\n",
    "plt.figure(figsize=(10, 1))\n",
    "\n",
    "for i in range(10):\n",
    "    plt.subplot(1, 10, i+1)\n",
    "    plt.imshow(X_train[i], cmap=\"inferno\") # write the function to visualize images\n",
    "    plt.axis('off')\n",
    "\n",
    "plt.show()\n",
    "print('label for each of the above image: %s' % (y_train[0:10]))"
   ]
  },
  {
   "cell_type": "markdown",
   "metadata": {
    "id": "kzoyeXHOy80N"
   },
   "source": [
    "## **Data Preparation**\n",
    "The following step will be performed to prepare the data for the analyses:\n",
    "- Check the shape of the images;\n",
    "- Reshape the train and the test dataset to make them fit the first convolutional operation\n",
    "- Normalize The train and the test dataset (dividing by 255)\n",
    "- The target variable will be processed and tranformed into one-hot encode"
   ]
  },
  {
   "cell_type": "code",
   "execution_count": 8,
   "metadata": {
    "colab": {
     "base_uri": "https://localhost:8080/"
    },
    "executionInfo": {
     "elapsed": 12,
     "status": "ok",
     "timestamp": 1639395772304,
     "user": {
      "displayName": "Francesco Parisio",
      "photoUrl": "https://lh3.googleusercontent.com/a/default-user=s64",
      "userId": "12644213594811515612"
     },
     "user_tz": -60
    },
    "id": "NqndzQXng9rL",
    "outputId": "609d16e7-d0d9-4363-c2b4-5da65f6c678a"
   },
   "outputs": [
    {
     "name": "stdout",
     "output_type": "stream",
     "text": [
      "Shape: (32, 32)\n",
      "\n",
      "First image:\n",
      " [[ 33.0704  30.2601  26.852  ...  71.4471  58.2204  42.9939]\n",
      " [ 25.2283  25.5533  29.9765 ... 113.0209 103.3639  84.2949]\n",
      " [ 26.2775  22.6137  40.4763 ... 113.3028 121.775  115.4228]\n",
      " ...\n",
      " [ 28.5502  36.212   45.0801 ...  24.1359  25.0927  26.0603]\n",
      " [ 38.4352  26.4733  23.2717 ...  28.1094  29.4683  30.0661]\n",
      " [ 50.2984  26.0773  24.0389 ...  49.6682  50.853   53.0377]]\n"
     ]
    }
   ],
   "source": [
    "# Shape of the images and the first image\n",
    "print(\"Shape:\", X_train[0].shape)\n",
    "print()\n",
    "print(\"First image:\\n\", X_train[0])"
   ]
  },
  {
   "cell_type": "code",
   "execution_count": 9,
   "metadata": {
    "id": "D9YPwf9ysqWU"
   },
   "outputs": [],
   "source": [
    "# Reshaping the dataset by flatten them. 4D array must be given as CNNs input\n",
    "X_train = X_train.reshape(X_train.shape[0], 32,32,1)\n",
    "X_test = X_test.reshape(X_test.shape[0], 32,32,1)"
   ]
  },
  {
   "cell_type": "code",
   "execution_count": 10,
   "metadata": {
    "id": "q_yUUTp_mUzB"
   },
   "outputs": [],
   "source": [
    "# Normalize inputs\n",
    "X_train = X_train / 255.0\n",
    "X_test = X_test / 255.0"
   ]
  },
  {
   "cell_type": "code",
   "execution_count": 11,
   "metadata": {
    "colab": {
     "base_uri": "https://localhost:8080/"
    },
    "executionInfo": {
     "elapsed": 16,
     "status": "ok",
     "timestamp": 1639395772644,
     "user": {
      "displayName": "Francesco Parisio",
      "photoUrl": "https://lh3.googleusercontent.com/a/default-user=s64",
      "userId": "12644213594811515612"
     },
     "user_tz": -60
    },
    "id": "t7FSqOpamWkH",
    "outputId": "b7c27ab7-b203-4b3d-e2a7-b782f6ae13ac"
   },
   "outputs": [
    {
     "name": "stdout",
     "output_type": "stream",
     "text": [
      "Training set: (42000, 32, 32, 1) (42000,)\n",
      "Test set: (18000, 32, 32, 1) (18000,)\n"
     ]
    }
   ],
   "source": [
    "# Check reshape \n",
    "print('Training set:', X_train.shape, y_train.shape)\n",
    "print('Test set:', X_test.shape, y_test.shape)"
   ]
  },
  {
   "cell_type": "code",
   "execution_count": 12,
   "metadata": {
    "colab": {
     "base_uri": "https://localhost:8080/"
    },
    "executionInfo": {
     "elapsed": 14,
     "status": "ok",
     "timestamp": 1639395772644,
     "user": {
      "displayName": "Francesco Parisio",
      "photoUrl": "https://lh3.googleusercontent.com/a/default-user=s64",
      "userId": "12644213594811515612"
     },
     "user_tz": -60
    },
    "id": "zL0lYER4sqWw",
    "outputId": "6f5ffc62-12e1-46a4-a201-6a3507c17df3"
   },
   "outputs": [
    {
     "name": "stdout",
     "output_type": "stream",
     "text": [
      "[[0. 0. 1. ... 0. 0. 0.]\n",
      " [0. 0. 0. ... 0. 0. 0.]\n",
      " [0. 0. 0. ... 1. 0. 0.]\n",
      " ...\n",
      " [0. 0. 0. ... 1. 0. 0.]\n",
      " [1. 0. 0. ... 0. 0. 0.]\n",
      " [0. 0. 0. ... 0. 0. 0.]]\n",
      "[[0. 1. 0. ... 0. 0. 0.]\n",
      " [0. 0. 0. ... 1. 0. 0.]\n",
      " [0. 0. 1. ... 0. 0. 0.]\n",
      " ...\n",
      " [0. 0. 0. ... 1. 0. 0.]\n",
      " [0. 0. 0. ... 0. 0. 1.]\n",
      " [0. 0. 1. ... 0. 0. 0.]]\n"
     ]
    }
   ],
   "source": [
    "# One-hot encoding the output\n",
    "y_train = tf.keras.utils.to_categorical(y_train)\n",
    "y_test = tf.keras.utils.to_categorical(y_test)\n",
    "\n",
    "# Check the labels\n",
    "print(y_train)\n",
    "print(y_test)"
   ]
  },
  {
   "cell_type": "markdown",
   "metadata": {
    "id": "yH-gVrzuByNA"
   },
   "source": [
    "## **CNN Model Building**"
   ]
  },
  {
   "cell_type": "code",
   "execution_count": 13,
   "metadata": {
    "id": "eaGr-3Noe2TF"
   },
   "outputs": [],
   "source": [
    "#Fixing the seed for random number generators\n",
    "np.random.seed(42)\n",
    "import random\n",
    "random.seed(42)\n",
    "tf.random.set_seed(42)"
   ]
  },
  {
   "cell_type": "code",
   "execution_count": 14,
   "metadata": {
    "id": "Cmi81Gr5sqW-"
   },
   "outputs": [],
   "source": [
    "#Importing losses and optimizers modules\n",
    "from tensorflow.keras import losses\n",
    "from tensorflow.keras import optimizers\n",
    "\n",
    "#Define the function to build model architecture\n",
    "def cnn_model_1():\n",
    "    model = Sequential() \n",
    "    #Add layers as per the architecture mentioned above in the same sequence\n",
    "    model.add(Conv2D(filters=16, kernel_size=(3, 3), padding=\"same\", input_shape=(32, 32, 1)))\n",
    "    model.add(LeakyReLU(0.1))\n",
    "    model.add(Conv2D(filters=32, kernel_size=(3, 3), padding='same'))\n",
    "    model.add(LeakyReLU(0.1))\n",
    "    model.add(MaxPool2D(pool_size=(2, 2)))\n",
    "    model.add(Flatten())\n",
    "    model.add(Dense(32))\n",
    "    model.add(LeakyReLU(0.1))\n",
    "    model.add(Dense(10, activation='softmax'))\n",
    "\n",
    "    #declare adam optimizer with learning rate of 0.001 \n",
    "    adam = optimizers.Adamax(learning_rate=0.001)\n",
    "    \n",
    "    #compile the model\n",
    "    model.compile(loss = 'categorical_crossentropy', optimizer=adam, metrics=['accuracy'])\n",
    "    \n",
    "    return model"
   ]
  },
  {
   "cell_type": "code",
   "execution_count": 15,
   "metadata": {
    "id": "bGCUI_xsImnH"
   },
   "outputs": [
    {
     "name": "stderr",
     "output_type": "stream",
     "text": [
      "2022-03-01 11:04:00.761162: E tensorflow/stream_executor/cuda/cuda_driver.cc:271] failed call to cuInit: CUDA_ERROR_NO_DEVICE: no CUDA-capable device is detected\n",
      "2022-03-01 11:04:00.761219: I tensorflow/stream_executor/cuda/cuda_diagnostics.cc:156] kernel driver does not appear to be running on this host (francesco-ThinkPad-T450s): /proc/driver/nvidia/version does not exist\n",
      "2022-03-01 11:04:00.763344: I tensorflow/core/platform/cpu_feature_guard.cc:151] This TensorFlow binary is optimized with oneAPI Deep Neural Network Library (oneDNN) to use the following CPU instructions in performance-critical operations:  AVX2 FMA\n",
      "To enable them in other operations, rebuild TensorFlow with the appropriate compiler flags.\n"
     ]
    }
   ],
   "source": [
    "#Build the model\n",
    "model_1 = cnn_model_1()"
   ]
  },
  {
   "cell_type": "code",
   "execution_count": 16,
   "metadata": {
    "colab": {
     "base_uri": "https://localhost:8080/"
    },
    "executionInfo": {
     "elapsed": 14,
     "status": "ok",
     "timestamp": 1639395772647,
     "user": {
      "displayName": "Francesco Parisio",
      "photoUrl": "https://lh3.googleusercontent.com/a/default-user=s64",
      "userId": "12644213594811515612"
     },
     "user_tz": -60
    },
    "id": "ckJsLdmdQadZ",
    "outputId": "153a3951-cdf4-4304-9fd0-238e5c9a0d89"
   },
   "outputs": [
    {
     "name": "stdout",
     "output_type": "stream",
     "text": [
      "Model: \"sequential\"\n",
      "_________________________________________________________________\n",
      " Layer (type)                Output Shape              Param #   \n",
      "=================================================================\n",
      " conv2d (Conv2D)             (None, 32, 32, 16)        160       \n",
      "                                                                 \n",
      " leaky_re_lu (LeakyReLU)     (None, 32, 32, 16)        0         \n",
      "                                                                 \n",
      " conv2d_1 (Conv2D)           (None, 32, 32, 32)        4640      \n",
      "                                                                 \n",
      " leaky_re_lu_1 (LeakyReLU)   (None, 32, 32, 32)        0         \n",
      "                                                                 \n",
      " max_pooling2d (MaxPooling2D  (None, 16, 16, 32)       0         \n",
      " )                                                               \n",
      "                                                                 \n",
      " flatten (Flatten)           (None, 8192)              0         \n",
      "                                                                 \n",
      " dense (Dense)               (None, 32)                262176    \n",
      "                                                                 \n",
      " leaky_re_lu_2 (LeakyReLU)   (None, 32)                0         \n",
      "                                                                 \n",
      " dense_1 (Dense)             (None, 10)                330       \n",
      "                                                                 \n",
      "=================================================================\n",
      "Total params: 267,306\n",
      "Trainable params: 267,306\n",
      "Non-trainable params: 0\n",
      "_________________________________________________________________\n"
     ]
    }
   ],
   "source": [
    "#Print the model summary\n",
    "model_1.summary()"
   ]
  },
  {
   "cell_type": "code",
   "execution_count": 21,
   "metadata": {},
   "outputs": [
    {
     "name": "stdout",
     "output_type": "stream",
     "text": [
      "Requirement already satisfied: pydot in /home/francesco/anaconda3/lib/python3.8/site-packages (1.4.2)\r\n",
      "Requirement already satisfied: pyparsing>=2.1.4 in /home/francesco/anaconda3/lib/python3.8/site-packages (from pydot) (3.0.6)\r\n"
     ]
    }
   ],
   "source": [
    "# Viszalization libraries\n",
    "#!pip3 install graphviz\n",
    "#!pip install pydot\n",
    "#!pip3 install pydotplus\n",
    "#!pip3 install keras-visualizer"
   ]
  },
  {
   "cell_type": "code",
   "execution_count": 54,
   "metadata": {},
   "outputs": [
    {
     "data": {
      "text/plain": [
       "True"
      ]
     },
     "execution_count": 54,
     "metadata": {},
     "output_type": "execute_result"
    }
   ],
   "source": [
    "import pydot\n",
    "\n",
    "#Build dot model to export\n",
    "dot_mod = tf.keras.utils.model_to_dot(model_1,show_shapes=False,show_dtype=False,show_layer_names=False,rankdir=\"LR\",expand_nested=False,dpi=96,subgraph=False,layer_range=None,show_layer_activations=False,)\n",
    "\n",
    "#Export dot to png of CNN architecture\n",
    "dot_mod.write_png('GraphCNN.png')"
   ]
  },
  {
   "cell_type": "code",
   "execution_count": 27,
   "metadata": {
    "colab": {
     "base_uri": "https://localhost:8080/"
    },
    "executionInfo": {
     "elapsed": 262628,
     "status": "ok",
     "timestamp": 1639396035265,
     "user": {
      "displayName": "Francesco Parisio",
      "photoUrl": "https://lh3.googleusercontent.com/a/default-user=s64",
      "userId": "12644213594811515612"
     },
     "user_tz": -60
    },
    "id": "3Fy3Dif_zcCk",
    "outputId": "123374a1-b8fd-49d5-de26-6b0b3a98a30b"
   },
   "outputs": [
    {
     "name": "stdout",
     "output_type": "stream",
     "text": [
      "Epoch 1/20\n",
      "1050/1050 [==============================] - 61s 57ms/step - loss: 2.3028 - accuracy: 0.0999 - val_loss: 2.3027 - val_accuracy: 0.0974\n",
      "Epoch 2/20\n",
      "1050/1050 [==============================] - 63s 60ms/step - loss: 2.3027 - accuracy: 0.1001 - val_loss: 2.3027 - val_accuracy: 0.1014\n",
      "Epoch 3/20\n",
      "1050/1050 [==============================] - 64s 61ms/step - loss: 2.3027 - accuracy: 0.1008 - val_loss: 2.3028 - val_accuracy: 0.1014\n",
      "Epoch 4/20\n",
      "1050/1050 [==============================] - 65s 62ms/step - loss: 2.3026 - accuracy: 0.1018 - val_loss: 2.3028 - val_accuracy: 0.1014\n",
      "Epoch 5/20\n",
      "1050/1050 [==============================] - 65s 62ms/step - loss: 2.3026 - accuracy: 0.1019 - val_loss: 2.3028 - val_accuracy: 0.1014\n",
      "Epoch 6/20\n",
      "1050/1050 [==============================] - 66s 63ms/step - loss: 2.3027 - accuracy: 0.1017 - val_loss: 2.3044 - val_accuracy: 0.0974\n",
      "Epoch 7/20\n",
      "1050/1050 [==============================] - 63s 60ms/step - loss: 2.3027 - accuracy: 0.1010 - val_loss: 2.3029 - val_accuracy: 0.1014\n",
      "Epoch 8/20\n",
      "1050/1050 [==============================] - 62s 59ms/step - loss: 2.3026 - accuracy: 0.1023 - val_loss: 2.3029 - val_accuracy: 0.1014\n",
      "Epoch 9/20\n",
      "1050/1050 [==============================] - 63s 60ms/step - loss: 2.3027 - accuracy: 0.1009 - val_loss: 2.3029 - val_accuracy: 0.1014\n",
      "Epoch 10/20\n",
      "1050/1050 [==============================] - 63s 60ms/step - loss: 2.3026 - accuracy: 0.1007 - val_loss: 2.3029 - val_accuracy: 0.1014\n",
      "Epoch 11/20\n",
      "1050/1050 [==============================] - 61s 59ms/step - loss: 2.3027 - accuracy: 0.1000 - val_loss: 2.3030 - val_accuracy: 0.0974\n",
      "Epoch 12/20\n",
      "1050/1050 [==============================] - 63s 60ms/step - loss: 2.3027 - accuracy: 0.1008 - val_loss: 2.3029 - val_accuracy: 0.1014\n",
      "Epoch 13/20\n",
      "1050/1050 [==============================] - 68s 65ms/step - loss: 2.3026 - accuracy: 0.1014 - val_loss: 2.3029 - val_accuracy: 0.1014\n",
      "Epoch 14/20\n",
      "1050/1050 [==============================] - 70s 67ms/step - loss: 2.3027 - accuracy: 0.1024 - val_loss: 2.3029 - val_accuracy: 0.1014\n",
      "Epoch 15/20\n",
      "1050/1050 [==============================] - 69s 66ms/step - loss: 2.3026 - accuracy: 0.1014 - val_loss: 2.3028 - val_accuracy: 0.1014\n",
      "Epoch 16/20\n",
      "1050/1050 [==============================] - 65s 62ms/step - loss: 2.3027 - accuracy: 0.1015 - val_loss: 2.3028 - val_accuracy: 0.1014\n",
      "Epoch 17/20\n",
      "1050/1050 [==============================] - 63s 60ms/step - loss: 2.3027 - accuracy: 0.1009 - val_loss: 2.3028 - val_accuracy: 0.1014\n",
      "Epoch 18/20\n",
      "1050/1050 [==============================] - 64s 61ms/step - loss: 2.3026 - accuracy: 0.1014 - val_loss: 2.3033 - val_accuracy: 0.0996\n",
      "Epoch 19/20\n",
      "1050/1050 [==============================] - 64s 61ms/step - loss: 2.3026 - accuracy: 0.1019 - val_loss: 2.3027 - val_accuracy: 0.0993\n",
      "Epoch 20/20\n",
      "1050/1050 [==============================] - 64s 61ms/step - loss: 2.3012 - accuracy: 0.1105 - val_loss: 2.2977 - val_accuracy: 0.1358\n"
     ]
    }
   ],
   "source": [
    "# Fit the model\n",
    "history_model_1 = model_1.fit(X_train,y_train,validation_split=0.2,batch_size=32,epochs=20,verbose=1)"
   ]
  },
  {
   "cell_type": "markdown",
   "metadata": {
    "id": "tKOckG-KPyLg"
   },
   "source": [
    "### **Plotting the validation and training accuracies**"
   ]
  },
  {
   "cell_type": "code",
   "execution_count": 9,
   "metadata": {
    "colab": {
     "base_uri": "https://localhost:8080/",
     "height": 497
    },
    "executionInfo": {
     "elapsed": 621,
     "status": "ok",
     "timestamp": 1639396035880,
     "user": {
      "displayName": "Francesco Parisio",
      "photoUrl": "https://lh3.googleusercontent.com/a/default-user=s64",
      "userId": "12644213594811515612"
     },
     "user_tz": -60
    },
    "id": "lt77zgGMP4yw",
    "outputId": "01bc7a7b-0d9d-4a2a-dbc8-3a4105cbce21"
   },
   "outputs": [
    {
     "ename": "NameError",
     "evalue": "name 'history_model_1' is not defined",
     "output_type": "error",
     "traceback": [
      "\u001b[0;31m---------------------------------------------------------------------------\u001b[0m",
      "\u001b[0;31mNameError\u001b[0m                                 Traceback (most recent call last)",
      "\u001b[0;32m/tmp/ipykernel_11078/2635211631.py\u001b[0m in \u001b[0;36m<module>\u001b[0;34m\u001b[0m\n\u001b[1;32m      1\u001b[0m \u001b[0;31m# plotting the accuracies\u001b[0m\u001b[0;34m\u001b[0m\u001b[0;34m\u001b[0m\u001b[0;34m\u001b[0m\u001b[0m\n\u001b[1;32m      2\u001b[0m \u001b[0;34m\u001b[0m\u001b[0m\n\u001b[0;32m----> 3\u001b[0;31m \u001b[0mdict_hist\u001b[0m \u001b[0;34m=\u001b[0m \u001b[0mhistory_model_1\u001b[0m\u001b[0;34m.\u001b[0m\u001b[0mhistory\u001b[0m\u001b[0;34m\u001b[0m\u001b[0;34m\u001b[0m\u001b[0m\n\u001b[0m\u001b[1;32m      4\u001b[0m \u001b[0mlist_ep\u001b[0m \u001b[0;34m=\u001b[0m \u001b[0;34m[\u001b[0m\u001b[0mi\u001b[0m \u001b[0;32mfor\u001b[0m \u001b[0mi\u001b[0m \u001b[0;32min\u001b[0m \u001b[0mrange\u001b[0m\u001b[0;34m(\u001b[0m\u001b[0;36m1\u001b[0m\u001b[0;34m,\u001b[0m\u001b[0;36m21\u001b[0m\u001b[0;34m)\u001b[0m\u001b[0;34m]\u001b[0m\u001b[0;34m\u001b[0m\u001b[0;34m\u001b[0m\u001b[0m\n\u001b[1;32m      5\u001b[0m \u001b[0;34m\u001b[0m\u001b[0m\n",
      "\u001b[0;31mNameError\u001b[0m: name 'history_model_1' is not defined"
     ]
    }
   ],
   "source": [
    "# plotting the accuracies\n",
    "\n",
    "dict_hist = history_model_1.history\n",
    "list_ep = [i for i in range(1,21)]\n",
    "\n",
    "plt.figure(figsize = (8,8))\n",
    "plt.plot(list_ep,dict_hist['accuracy'],ls = '--', label = 'accuracy')\n",
    "plt.plot(list_ep,dict_hist['val_accuracy'],ls = '--', label = 'val_accuracy')\n",
    "plt.ylabel('Accuracy')\n",
    "plt.xlabel('Epochs')\n",
    "plt.legend()\n",
    "plt.show()"
   ]
  },
  {
   "cell_type": "code",
   "execution_count": null,
   "metadata": {},
   "outputs": [],
   "source": [
    "def plot_loss(history_model_1):\n",
    "    plt.plot(history_model_1.history['loss'], label='loss')\n",
    "    plt.plot(history_model_1.history['val_loss'], label='val_loss')\n",
    "    #plt.ylim([0, 10])\n",
    "    plt.xlabel('Epoch')\n",
    "    plt.ylabel('Error [MPG]')\n",
    "    plt.legend()\n",
    "\n",
    "plot_loss(history_model_1)\n",
    "print(np.min(history_model_1.history['val_loss']))"
   ]
  },
  {
   "cell_type": "markdown",
   "metadata": {
    "id": "pGBbQpLONX7k"
   },
   "source": [
    "**Observations:**\n",
    "- The accuracy in the validation dataset is lower than in the training, which implies that the model is overfitting the data;\n",
    "- The model can be improved to avoid overfitting and provide more generalization on the data; "
   ]
  },
  {
   "cell_type": "markdown",
   "metadata": {
    "id": "z0qgLMBZm5-K"
   },
   "source": [
    "Let's build another model and see if we can get a better model with generalized performance.\n",
    "\n",
    "First, we need to clear the previous model's history from the keras backend. Also, let's fix the seed again after clearing the backend."
   ]
  },
  {
   "cell_type": "code",
   "execution_count": null,
   "metadata": {
    "id": "y98BpLxsok_H"
   },
   "outputs": [],
   "source": [
    "#Clearing backend\n",
    "from tensorflow.keras import backend\n",
    "backend.clear_session()"
   ]
  },
  {
   "cell_type": "code",
   "execution_count": null,
   "metadata": {
    "id": "HbKi93HTolGW"
   },
   "outputs": [],
   "source": [
    "#Fixing the seed for random number generators\n",
    "np.random.seed(42)\n",
    "import random\n",
    "random.seed(42)\n",
    "tf.random.set_seed(42)"
   ]
  },
  {
   "cell_type": "markdown",
   "metadata": {
    "id": "lT6o3TIKuCtk"
   },
   "source": [
    "### **Second Model Architecture**\n",
    "- Write a function that returns a sequential model with the following architecture\n",
    " - First Convolutional layer with **16 filters and kernel size of 3x3**. Use the **'same' padding** and provide an **apt input shape**\n",
    " - Add a **LeakyRelu layer** with the **slope equal to 0.1**\n",
    " - Second Convolutional layer with **32 filters and kernel size of 3x3 with 'same' padding**\n",
    " - Add **LeakyRelu** with the **slope equal to 0.1**\n",
    " - Add a **max-pooling layer** with a **pool size of 2x2**\n",
    " - Add a **BatchNormalization layer**\n",
    " - Third Convolutional layer with **32 filters and kernel size of 3x3 with 'same' padding**\n",
    " - Add a **LeakyRelu layer with slope equal to 0.1**\n",
    " - Fourth Convolutional layer **64 filters and kernel size of 3x3 with 'same' padding** \n",
    " - Add a **LeakyRelu layer with slope equal to 0.1**\n",
    " - Add a **max-pooling layer** with a **pool size of 2x2**\n",
    " - Add a **BatchNormalization layer**\n",
    " - **Flatten** the output from the previous layer\n",
    " - Add a **dense layer with 32 nodes**\n",
    " - Add a **LeakyRelu layer with slope equal to 0.1**\n",
    " - Add a **dropout layer with rate equal to 0.5**\n",
    " - Add the final **output layer with nodes equal to the number of classes** and **softmax activation**\n",
    " - Compile the model with the **categorical_crossentropy loss, adam optimizers (learning_rate = 0.001), and accuracy metric**. Do not fit the model here, just return the compiled model\n",
    "- Call the function and store the model in a new variable\n",
    "- Print the summary of the model.\n",
    "- Fit the model on the train data with a **validation split of 0.2, batch size = 128, verbose = 1, and 30 epochs**. Store the model building history to use later for visualization."
   ]
  },
  {
   "cell_type": "code",
   "execution_count": 55,
   "metadata": {
    "id": "EEPYLFIPnSDP"
   },
   "outputs": [],
   "source": [
    "#Define the function\n",
    "def cnn_model_2():\n",
    "    model = Sequential() \n",
    "    #Add layers as per the architecture mentioned above in the same sequence\n",
    "    model.add(Conv2D(filters=16, kernel_size=(3, 3), padding=\"same\", input_shape=(32, 32, 1)))\n",
    "    model.add(LeakyReLU(0.1))\n",
    "    model.add(Conv2D(filters=32, kernel_size=(3, 3), padding='same'))\n",
    "    model.add(LeakyReLU(0.1))\n",
    "    model.add(MaxPool2D(pool_size=(2, 2)))\n",
    "    model.add(BatchNormalization())\n",
    "    model.add(Conv2D(filters=32, kernel_size=(3, 3), padding='same'))\n",
    "    model.add(LeakyReLU(0.1))\n",
    "    model.add(Conv2D(filters=64, kernel_size=(3, 3), padding='same'))\n",
    "    model.add(LeakyReLU(0.1))\n",
    "    model.add(MaxPool2D(pool_size=(2, 2)))\n",
    "    model.add(BatchNormalization())\n",
    "    model.add(Flatten())\n",
    "    model.add(Dense(32))\n",
    "    model.add(LeakyReLU(0.1))\n",
    "    model.add(Dropout(0.5))\n",
    "    model.add(Dense(10, activation='softmax'))\n",
    "\n",
    "    #declare adam optimizer with learning rate of 0.001 \n",
    "    adam = optimizers.Adamax(learning_rate=0.001)\n",
    "    \n",
    "    #compile the model\n",
    "    model.compile(loss = 'categorical_crossentropy', optimizer=adam, metrics=['accuracy'])\n",
    "    \n",
    "    return model"
   ]
  },
  {
   "cell_type": "code",
   "execution_count": 56,
   "metadata": {
    "id": "AKjDY4plnSFl"
   },
   "outputs": [],
   "source": [
    "# Build the model\n",
    "model_2 = cnn_model_2()"
   ]
  },
  {
   "cell_type": "code",
   "execution_count": 57,
   "metadata": {
    "colab": {
     "base_uri": "https://localhost:8080/"
    },
    "executionInfo": {
     "elapsed": 16,
     "status": "ok",
     "timestamp": 1639396035884,
     "user": {
      "displayName": "Francesco Parisio",
      "photoUrl": "https://lh3.googleusercontent.com/a/default-user=s64",
      "userId": "12644213594811515612"
     },
     "user_tz": -60
    },
    "id": "gz_6SVrU2swZ",
    "outputId": "b20375ea-50e2-4228-d225-a695b6dfdf99"
   },
   "outputs": [
    {
     "name": "stdout",
     "output_type": "stream",
     "text": [
      "Model: \"sequential_1\"\n",
      "_________________________________________________________________\n",
      " Layer (type)                Output Shape              Param #   \n",
      "=================================================================\n",
      " conv2d_2 (Conv2D)           (None, 32, 32, 16)        160       \n",
      "                                                                 \n",
      " leaky_re_lu_3 (LeakyReLU)   (None, 32, 32, 16)        0         \n",
      "                                                                 \n",
      " conv2d_3 (Conv2D)           (None, 32, 32, 32)        4640      \n",
      "                                                                 \n",
      " leaky_re_lu_4 (LeakyReLU)   (None, 32, 32, 32)        0         \n",
      "                                                                 \n",
      " max_pooling2d_1 (MaxPooling  (None, 16, 16, 32)       0         \n",
      " 2D)                                                             \n",
      "                                                                 \n",
      " batch_normalization (BatchN  (None, 16, 16, 32)       128       \n",
      " ormalization)                                                   \n",
      "                                                                 \n",
      " conv2d_4 (Conv2D)           (None, 16, 16, 32)        9248      \n",
      "                                                                 \n",
      " leaky_re_lu_5 (LeakyReLU)   (None, 16, 16, 32)        0         \n",
      "                                                                 \n",
      " conv2d_5 (Conv2D)           (None, 16, 16, 64)        18496     \n",
      "                                                                 \n",
      " leaky_re_lu_6 (LeakyReLU)   (None, 16, 16, 64)        0         \n",
      "                                                                 \n",
      " max_pooling2d_2 (MaxPooling  (None, 8, 8, 64)         0         \n",
      " 2D)                                                             \n",
      "                                                                 \n",
      " batch_normalization_1 (Batc  (None, 8, 8, 64)         256       \n",
      " hNormalization)                                                 \n",
      "                                                                 \n",
      " flatten_1 (Flatten)         (None, 4096)              0         \n",
      "                                                                 \n",
      " dense_2 (Dense)             (None, 32)                131104    \n",
      "                                                                 \n",
      " leaky_re_lu_7 (LeakyReLU)   (None, 32)                0         \n",
      "                                                                 \n",
      " dropout (Dropout)           (None, 32)                0         \n",
      "                                                                 \n",
      " dense_3 (Dense)             (None, 10)                330       \n",
      "                                                                 \n",
      "=================================================================\n",
      "Total params: 164,362\n",
      "Trainable params: 164,170\n",
      "Non-trainable params: 192\n",
      "_________________________________________________________________\n"
     ]
    }
   ],
   "source": [
    "#Print the summary\n",
    "model_2.summary()"
   ]
  },
  {
   "cell_type": "code",
   "execution_count": 58,
   "metadata": {
    "colab": {
     "base_uri": "https://localhost:8080/"
    },
    "executionInfo": {
     "elapsed": 262692,
     "status": "ok",
     "timestamp": 1639396298880,
     "user": {
      "displayName": "Francesco Parisio",
      "photoUrl": "https://lh3.googleusercontent.com/a/default-user=s64",
      "userId": "12644213594811515612"
     },
     "user_tz": -60
    },
    "id": "IQ0Sc4R-y-uu",
    "outputId": "3791368e-c3d1-486b-8bd7-7dc9c7bf5597"
   },
   "outputs": [
    {
     "name": "stderr",
     "output_type": "stream",
     "text": [
      "2022-03-01 11:20:54.920997: W tensorflow/core/framework/cpu_allocator_impl.cc:82] Allocation of 137625600 exceeds 10% of free system memory.\n"
     ]
    },
    {
     "name": "stdout",
     "output_type": "stream",
     "text": [
      "Epoch 1/30\n",
      " 26/263 [=>............................] - ETA: 2:30 - loss: 2.4838 - accuracy: 0.1175"
     ]
    },
    {
     "ename": "KeyboardInterrupt",
     "evalue": "",
     "output_type": "error",
     "traceback": [
      "\u001b[0;31m---------------------------------------------------------------------------\u001b[0m",
      "\u001b[0;31mKeyboardInterrupt\u001b[0m                         Traceback (most recent call last)",
      "\u001b[0;32m/tmp/ipykernel_14445/3513728898.py\u001b[0m in \u001b[0;36m<module>\u001b[0;34m\u001b[0m\n\u001b[1;32m      1\u001b[0m \u001b[0;31m# Fit the model\u001b[0m\u001b[0;34m\u001b[0m\u001b[0;34m\u001b[0m\u001b[0;34m\u001b[0m\u001b[0m\n\u001b[0;32m----> 2\u001b[0;31m \u001b[0mhistory_model_2\u001b[0m \u001b[0;34m=\u001b[0m \u001b[0mmodel_2\u001b[0m\u001b[0;34m.\u001b[0m\u001b[0mfit\u001b[0m\u001b[0;34m(\u001b[0m\u001b[0mX_train\u001b[0m\u001b[0;34m,\u001b[0m\u001b[0my_train\u001b[0m\u001b[0;34m,\u001b[0m\u001b[0mvalidation_split\u001b[0m\u001b[0;34m=\u001b[0m\u001b[0;36m0.2\u001b[0m\u001b[0;34m,\u001b[0m\u001b[0mbatch_size\u001b[0m\u001b[0;34m=\u001b[0m\u001b[0;36m128\u001b[0m\u001b[0;34m,\u001b[0m\u001b[0mepochs\u001b[0m\u001b[0;34m=\u001b[0m\u001b[0;36m30\u001b[0m\u001b[0;34m,\u001b[0m\u001b[0mverbose\u001b[0m\u001b[0;34m=\u001b[0m\u001b[0;36m1\u001b[0m\u001b[0;34m)\u001b[0m\u001b[0;34m\u001b[0m\u001b[0;34m\u001b[0m\u001b[0m\n\u001b[0m",
      "\u001b[0;32m~/.local/lib/python3.8/site-packages/keras/utils/traceback_utils.py\u001b[0m in \u001b[0;36merror_handler\u001b[0;34m(*args, **kwargs)\u001b[0m\n\u001b[1;32m     62\u001b[0m     \u001b[0mfiltered_tb\u001b[0m \u001b[0;34m=\u001b[0m \u001b[0;32mNone\u001b[0m\u001b[0;34m\u001b[0m\u001b[0;34m\u001b[0m\u001b[0m\n\u001b[1;32m     63\u001b[0m     \u001b[0;32mtry\u001b[0m\u001b[0;34m:\u001b[0m\u001b[0;34m\u001b[0m\u001b[0;34m\u001b[0m\u001b[0m\n\u001b[0;32m---> 64\u001b[0;31m       \u001b[0;32mreturn\u001b[0m \u001b[0mfn\u001b[0m\u001b[0;34m(\u001b[0m\u001b[0;34m*\u001b[0m\u001b[0margs\u001b[0m\u001b[0;34m,\u001b[0m \u001b[0;34m**\u001b[0m\u001b[0mkwargs\u001b[0m\u001b[0;34m)\u001b[0m\u001b[0;34m\u001b[0m\u001b[0;34m\u001b[0m\u001b[0m\n\u001b[0m\u001b[1;32m     65\u001b[0m     \u001b[0;32mexcept\u001b[0m \u001b[0mException\u001b[0m \u001b[0;32mas\u001b[0m \u001b[0me\u001b[0m\u001b[0;34m:\u001b[0m  \u001b[0;31m# pylint: disable=broad-except\u001b[0m\u001b[0;34m\u001b[0m\u001b[0;34m\u001b[0m\u001b[0m\n\u001b[1;32m     66\u001b[0m       \u001b[0mfiltered_tb\u001b[0m \u001b[0;34m=\u001b[0m \u001b[0m_process_traceback_frames\u001b[0m\u001b[0;34m(\u001b[0m\u001b[0me\u001b[0m\u001b[0;34m.\u001b[0m\u001b[0m__traceback__\u001b[0m\u001b[0;34m)\u001b[0m\u001b[0;34m\u001b[0m\u001b[0;34m\u001b[0m\u001b[0m\n",
      "\u001b[0;32m~/.local/lib/python3.8/site-packages/keras/engine/training.py\u001b[0m in \u001b[0;36mfit\u001b[0;34m(self, x, y, batch_size, epochs, verbose, callbacks, validation_split, validation_data, shuffle, class_weight, sample_weight, initial_epoch, steps_per_epoch, validation_steps, validation_batch_size, validation_freq, max_queue_size, workers, use_multiprocessing)\u001b[0m\n\u001b[1;32m   1214\u001b[0m                 _r=1):\n\u001b[1;32m   1215\u001b[0m               \u001b[0mcallbacks\u001b[0m\u001b[0;34m.\u001b[0m\u001b[0mon_train_batch_begin\u001b[0m\u001b[0;34m(\u001b[0m\u001b[0mstep\u001b[0m\u001b[0;34m)\u001b[0m\u001b[0;34m\u001b[0m\u001b[0;34m\u001b[0m\u001b[0m\n\u001b[0;32m-> 1216\u001b[0;31m               \u001b[0mtmp_logs\u001b[0m \u001b[0;34m=\u001b[0m \u001b[0mself\u001b[0m\u001b[0;34m.\u001b[0m\u001b[0mtrain_function\u001b[0m\u001b[0;34m(\u001b[0m\u001b[0miterator\u001b[0m\u001b[0;34m)\u001b[0m\u001b[0;34m\u001b[0m\u001b[0;34m\u001b[0m\u001b[0m\n\u001b[0m\u001b[1;32m   1217\u001b[0m               \u001b[0;32mif\u001b[0m \u001b[0mdata_handler\u001b[0m\u001b[0;34m.\u001b[0m\u001b[0mshould_sync\u001b[0m\u001b[0;34m:\u001b[0m\u001b[0;34m\u001b[0m\u001b[0;34m\u001b[0m\u001b[0m\n\u001b[1;32m   1218\u001b[0m                 \u001b[0mcontext\u001b[0m\u001b[0;34m.\u001b[0m\u001b[0masync_wait\u001b[0m\u001b[0;34m(\u001b[0m\u001b[0;34m)\u001b[0m\u001b[0;34m\u001b[0m\u001b[0;34m\u001b[0m\u001b[0m\n",
      "\u001b[0;32m~/.local/lib/python3.8/site-packages/tensorflow/python/util/traceback_utils.py\u001b[0m in \u001b[0;36merror_handler\u001b[0;34m(*args, **kwargs)\u001b[0m\n\u001b[1;32m    148\u001b[0m     \u001b[0mfiltered_tb\u001b[0m \u001b[0;34m=\u001b[0m \u001b[0;32mNone\u001b[0m\u001b[0;34m\u001b[0m\u001b[0;34m\u001b[0m\u001b[0m\n\u001b[1;32m    149\u001b[0m     \u001b[0;32mtry\u001b[0m\u001b[0;34m:\u001b[0m\u001b[0;34m\u001b[0m\u001b[0;34m\u001b[0m\u001b[0m\n\u001b[0;32m--> 150\u001b[0;31m       \u001b[0;32mreturn\u001b[0m \u001b[0mfn\u001b[0m\u001b[0;34m(\u001b[0m\u001b[0;34m*\u001b[0m\u001b[0margs\u001b[0m\u001b[0;34m,\u001b[0m \u001b[0;34m**\u001b[0m\u001b[0mkwargs\u001b[0m\u001b[0;34m)\u001b[0m\u001b[0;34m\u001b[0m\u001b[0;34m\u001b[0m\u001b[0m\n\u001b[0m\u001b[1;32m    151\u001b[0m     \u001b[0;32mexcept\u001b[0m \u001b[0mException\u001b[0m \u001b[0;32mas\u001b[0m \u001b[0me\u001b[0m\u001b[0;34m:\u001b[0m\u001b[0;34m\u001b[0m\u001b[0;34m\u001b[0m\u001b[0m\n\u001b[1;32m    152\u001b[0m       \u001b[0mfiltered_tb\u001b[0m \u001b[0;34m=\u001b[0m \u001b[0m_process_traceback_frames\u001b[0m\u001b[0;34m(\u001b[0m\u001b[0me\u001b[0m\u001b[0;34m.\u001b[0m\u001b[0m__traceback__\u001b[0m\u001b[0;34m)\u001b[0m\u001b[0;34m\u001b[0m\u001b[0;34m\u001b[0m\u001b[0m\n",
      "\u001b[0;32m~/.local/lib/python3.8/site-packages/tensorflow/python/eager/def_function.py\u001b[0m in \u001b[0;36m__call__\u001b[0;34m(self, *args, **kwds)\u001b[0m\n\u001b[1;32m    908\u001b[0m \u001b[0;34m\u001b[0m\u001b[0m\n\u001b[1;32m    909\u001b[0m       \u001b[0;32mwith\u001b[0m \u001b[0mOptionalXlaContext\u001b[0m\u001b[0;34m(\u001b[0m\u001b[0mself\u001b[0m\u001b[0;34m.\u001b[0m\u001b[0m_jit_compile\u001b[0m\u001b[0;34m)\u001b[0m\u001b[0;34m:\u001b[0m\u001b[0;34m\u001b[0m\u001b[0;34m\u001b[0m\u001b[0m\n\u001b[0;32m--> 910\u001b[0;31m         \u001b[0mresult\u001b[0m \u001b[0;34m=\u001b[0m \u001b[0mself\u001b[0m\u001b[0;34m.\u001b[0m\u001b[0m_call\u001b[0m\u001b[0;34m(\u001b[0m\u001b[0;34m*\u001b[0m\u001b[0margs\u001b[0m\u001b[0;34m,\u001b[0m \u001b[0;34m**\u001b[0m\u001b[0mkwds\u001b[0m\u001b[0;34m)\u001b[0m\u001b[0;34m\u001b[0m\u001b[0;34m\u001b[0m\u001b[0m\n\u001b[0m\u001b[1;32m    911\u001b[0m \u001b[0;34m\u001b[0m\u001b[0m\n\u001b[1;32m    912\u001b[0m       \u001b[0mnew_tracing_count\u001b[0m \u001b[0;34m=\u001b[0m \u001b[0mself\u001b[0m\u001b[0;34m.\u001b[0m\u001b[0mexperimental_get_tracing_count\u001b[0m\u001b[0;34m(\u001b[0m\u001b[0;34m)\u001b[0m\u001b[0;34m\u001b[0m\u001b[0;34m\u001b[0m\u001b[0m\n",
      "\u001b[0;32m~/.local/lib/python3.8/site-packages/tensorflow/python/eager/def_function.py\u001b[0m in \u001b[0;36m_call\u001b[0;34m(self, *args, **kwds)\u001b[0m\n\u001b[1;32m    940\u001b[0m       \u001b[0;31m# In this case we have created variables on the first call, so we run the\u001b[0m\u001b[0;34m\u001b[0m\u001b[0;34m\u001b[0m\u001b[0;34m\u001b[0m\u001b[0m\n\u001b[1;32m    941\u001b[0m       \u001b[0;31m# defunned version which is guaranteed to never create variables.\u001b[0m\u001b[0;34m\u001b[0m\u001b[0;34m\u001b[0m\u001b[0;34m\u001b[0m\u001b[0m\n\u001b[0;32m--> 942\u001b[0;31m       \u001b[0;32mreturn\u001b[0m \u001b[0mself\u001b[0m\u001b[0;34m.\u001b[0m\u001b[0m_stateless_fn\u001b[0m\u001b[0;34m(\u001b[0m\u001b[0;34m*\u001b[0m\u001b[0margs\u001b[0m\u001b[0;34m,\u001b[0m \u001b[0;34m**\u001b[0m\u001b[0mkwds\u001b[0m\u001b[0;34m)\u001b[0m  \u001b[0;31m# pylint: disable=not-callable\u001b[0m\u001b[0;34m\u001b[0m\u001b[0;34m\u001b[0m\u001b[0m\n\u001b[0m\u001b[1;32m    943\u001b[0m     \u001b[0;32melif\u001b[0m \u001b[0mself\u001b[0m\u001b[0;34m.\u001b[0m\u001b[0m_stateful_fn\u001b[0m \u001b[0;32mis\u001b[0m \u001b[0;32mnot\u001b[0m \u001b[0;32mNone\u001b[0m\u001b[0;34m:\u001b[0m\u001b[0;34m\u001b[0m\u001b[0;34m\u001b[0m\u001b[0m\n\u001b[1;32m    944\u001b[0m       \u001b[0;31m# Release the lock early so that multiple threads can perform the call\u001b[0m\u001b[0;34m\u001b[0m\u001b[0;34m\u001b[0m\u001b[0;34m\u001b[0m\u001b[0m\n",
      "\u001b[0;32m~/.local/lib/python3.8/site-packages/tensorflow/python/eager/function.py\u001b[0m in \u001b[0;36m__call__\u001b[0;34m(self, *args, **kwargs)\u001b[0m\n\u001b[1;32m   3128\u001b[0m       (graph_function,\n\u001b[1;32m   3129\u001b[0m        filtered_flat_args) = self._maybe_define_function(args, kwargs)\n\u001b[0;32m-> 3130\u001b[0;31m     return graph_function._call_flat(\n\u001b[0m\u001b[1;32m   3131\u001b[0m         filtered_flat_args, captured_inputs=graph_function.captured_inputs)  # pylint: disable=protected-access\n\u001b[1;32m   3132\u001b[0m \u001b[0;34m\u001b[0m\u001b[0m\n",
      "\u001b[0;32m~/.local/lib/python3.8/site-packages/tensorflow/python/eager/function.py\u001b[0m in \u001b[0;36m_call_flat\u001b[0;34m(self, args, captured_inputs, cancellation_manager)\u001b[0m\n\u001b[1;32m   1957\u001b[0m         and executing_eagerly):\n\u001b[1;32m   1958\u001b[0m       \u001b[0;31m# No tape is watching; skip to running the function.\u001b[0m\u001b[0;34m\u001b[0m\u001b[0;34m\u001b[0m\u001b[0;34m\u001b[0m\u001b[0m\n\u001b[0;32m-> 1959\u001b[0;31m       return self._build_call_outputs(self._inference_function.call(\n\u001b[0m\u001b[1;32m   1960\u001b[0m           ctx, args, cancellation_manager=cancellation_manager))\n\u001b[1;32m   1961\u001b[0m     forward_backward = self._select_forward_and_backward_functions(\n",
      "\u001b[0;32m~/.local/lib/python3.8/site-packages/tensorflow/python/eager/function.py\u001b[0m in \u001b[0;36mcall\u001b[0;34m(self, ctx, args, cancellation_manager)\u001b[0m\n\u001b[1;32m    596\u001b[0m       \u001b[0;32mwith\u001b[0m \u001b[0m_InterpolateFunctionError\u001b[0m\u001b[0;34m(\u001b[0m\u001b[0mself\u001b[0m\u001b[0;34m)\u001b[0m\u001b[0;34m:\u001b[0m\u001b[0;34m\u001b[0m\u001b[0;34m\u001b[0m\u001b[0m\n\u001b[1;32m    597\u001b[0m         \u001b[0;32mif\u001b[0m \u001b[0mcancellation_manager\u001b[0m \u001b[0;32mis\u001b[0m \u001b[0;32mNone\u001b[0m\u001b[0;34m:\u001b[0m\u001b[0;34m\u001b[0m\u001b[0;34m\u001b[0m\u001b[0m\n\u001b[0;32m--> 598\u001b[0;31m           outputs = execute.execute(\n\u001b[0m\u001b[1;32m    599\u001b[0m               \u001b[0mstr\u001b[0m\u001b[0;34m(\u001b[0m\u001b[0mself\u001b[0m\u001b[0;34m.\u001b[0m\u001b[0msignature\u001b[0m\u001b[0;34m.\u001b[0m\u001b[0mname\u001b[0m\u001b[0;34m)\u001b[0m\u001b[0;34m,\u001b[0m\u001b[0;34m\u001b[0m\u001b[0;34m\u001b[0m\u001b[0m\n\u001b[1;32m    600\u001b[0m               \u001b[0mnum_outputs\u001b[0m\u001b[0;34m=\u001b[0m\u001b[0mself\u001b[0m\u001b[0;34m.\u001b[0m\u001b[0m_num_outputs\u001b[0m\u001b[0;34m,\u001b[0m\u001b[0;34m\u001b[0m\u001b[0;34m\u001b[0m\u001b[0m\n",
      "\u001b[0;32m~/.local/lib/python3.8/site-packages/tensorflow/python/eager/execute.py\u001b[0m in \u001b[0;36mquick_execute\u001b[0;34m(op_name, num_outputs, inputs, attrs, ctx, name)\u001b[0m\n\u001b[1;32m     56\u001b[0m   \u001b[0;32mtry\u001b[0m\u001b[0;34m:\u001b[0m\u001b[0;34m\u001b[0m\u001b[0;34m\u001b[0m\u001b[0m\n\u001b[1;32m     57\u001b[0m     \u001b[0mctx\u001b[0m\u001b[0;34m.\u001b[0m\u001b[0mensure_initialized\u001b[0m\u001b[0;34m(\u001b[0m\u001b[0;34m)\u001b[0m\u001b[0;34m\u001b[0m\u001b[0;34m\u001b[0m\u001b[0m\n\u001b[0;32m---> 58\u001b[0;31m     tensors = pywrap_tfe.TFE_Py_Execute(ctx._handle, device_name, op_name,\n\u001b[0m\u001b[1;32m     59\u001b[0m                                         inputs, attrs, num_outputs)\n\u001b[1;32m     60\u001b[0m   \u001b[0;32mexcept\u001b[0m \u001b[0mcore\u001b[0m\u001b[0;34m.\u001b[0m\u001b[0m_NotOkStatusException\u001b[0m \u001b[0;32mas\u001b[0m \u001b[0me\u001b[0m\u001b[0;34m:\u001b[0m\u001b[0;34m\u001b[0m\u001b[0;34m\u001b[0m\u001b[0m\n",
      "\u001b[0;31mKeyboardInterrupt\u001b[0m: "
     ]
    }
   ],
   "source": [
    "# Fit the model\n",
    "history_model_2 = model_2.fit(X_train,y_train,validation_split=0.2,batch_size=128,epochs=30,verbose=1)"
   ]
  },
  {
   "cell_type": "markdown",
   "metadata": {
    "id": "0_f1EXmTe2TK"
   },
   "source": [
    "### **Plotting the validation and training accuracies**"
   ]
  },
  {
   "cell_type": "code",
   "execution_count": null,
   "metadata": {
    "colab": {
     "base_uri": "https://localhost:8080/",
     "height": 497
    },
    "executionInfo": {
     "elapsed": 16,
     "status": "ok",
     "timestamp": 1639396298883,
     "user": {
      "displayName": "Francesco Parisio",
      "photoUrl": "https://lh3.googleusercontent.com/a/default-user=s64",
      "userId": "12644213594811515612"
     },
     "user_tz": -60
    },
    "id": "01ig6BrF1KVy",
    "outputId": "d3c5e54c-8cb4-4d9c-9f13-9ac680d93877"
   },
   "outputs": [
    {
     "data": {
      "image/png": "[encoded data removed]",
      "text/plain": [
       "<Figure size 576x576 with 1 Axes>"
      ]
     },
     "metadata": {
      "needs_background": "light"
     },
     "output_type": "display_data"
    }
   ],
   "source": [
    "# plotting the accuracies\n",
    "\n",
    "dict_hist = history_model_2.history\n",
    "list_ep = [i for i in range(1,31)]\n",
    "\n",
    "plt.figure(figsize = (8,8))\n",
    "plt.plot(list_ep,dict_hist['accuracy'],ls = '--', label = 'accuracy')\n",
    "plt.plot(list_ep,dict_hist['val_accuracy'],ls = '--', label = 'val_accuracy')\n",
    "plt.ylabel('Accuracy')\n",
    "plt.xlabel('Epochs')\n",
    "plt.legend()\n",
    "plt.show()"
   ]
  },
  {
   "cell_type": "code",
   "execution_count": null,
   "metadata": {},
   "outputs": [],
   "source": [
    "def plot_loss(history_model_2):\n",
    "    plt.plot(history_model_2.history['loss'], label='loss')\n",
    "    plt.plot(history_model_2.history['val_loss'], label='val_loss')\n",
    "    #plt.ylim([0, 10])\n",
    "    plt.xlabel('Epoch')\n",
    "    plt.ylabel('Error [MPG]')\n",
    "    plt.legend()\n",
    "\n",
    "plot_loss(history_model_2)\n",
    "print(np.min(history_model_2.history['val_loss']))"
   ]
  },
  {
   "cell_type": "markdown",
   "metadata": {
    "id": "VPW1LlD61RDn"
   },
   "source": [
    "**Observations:**\n",
    "- This model makes use of regularization strategies such as batch normalization and dropout learning;\n",
    "- The model is deeper than the previous one and uses more convolutional layers;\n",
    "- Despite the fact that model_2 is deeper than model_1, it has less trainable parameters: this can be explained by the fact that more than one convolutional layer is used as well as pooling has been employed twice;\n",
    "- The model shows a better preformance and the accuracy on the validation dataset is well balanced and close to the accuracy of the training dataset;\n",
    "- The deeper network with additional convolutional layers has made the model more accurate but also more generalized;"
   ]
  },
  {
   "cell_type": "markdown",
   "metadata": {
    "id": "8kuXx9Bvu00f"
   },
   "source": [
    "## **Predictions on the test data**\n",
    "\n",
    "- Make predictions on the test set using the second model\n",
    "- Print the obtained results using the classification report and the confusion matrix\n",
    "- Final observations from the obtained results"
   ]
  },
  {
   "cell_type": "code",
   "execution_count": null,
   "metadata": {
    "id": "xbWMEtTj5Ad0"
   },
   "outputs": [],
   "source": [
    "#Make prediction on the test data using model_2 \n",
    "test_pred = model_2.predict(X_test)\n",
    "\n",
    "test_pred = np.argmax(test_pred, axis=-1)"
   ]
  },
  {
   "cell_type": "markdown",
   "metadata": {
    "id": "i3li8Ib08yts"
   },
   "source": [
    "**Note:** Earlier, we noticed that each entry of the test data is a one-hot encoded vector but to print the classification report and confusion matrix, we must convert each entry of y_test to a single label."
   ]
  },
  {
   "cell_type": "code",
   "execution_count": null,
   "metadata": {
    "id": "NByu7uAQ8x9P"
   },
   "outputs": [],
   "source": [
    "#Converting each entry to single label from one-hot encoded vector\n",
    "y_test = np.argmax(y_test, axis=-1)"
   ]
  },
  {
   "cell_type": "code",
   "execution_count": null,
   "metadata": {
    "colab": {
     "base_uri": "https://localhost:8080/",
     "height": 629
    },
    "executionInfo": {
     "elapsed": 777,
     "status": "ok",
     "timestamp": 1639396302448,
     "user": {
      "displayName": "Francesco Parisio",
      "photoUrl": "https://lh3.googleusercontent.com/a/default-user=s64",
      "userId": "12644213594811515612"
     },
     "user_tz": -60
    },
    "id": "xRddeJ-3EHT1",
    "outputId": "9a342c34-de90-4c1e-b268-11e8271c4ebb"
   },
   "outputs": [
    {
     "name": "stdout",
     "output_type": "stream",
     "text": [
      "              precision    recall  f1-score   support\n",
      "\n",
      "           0       0.90      0.95      0.92      1814\n",
      "           1       0.90      0.91      0.91      1828\n",
      "           2       0.93      0.93      0.93      1803\n",
      "           3       0.91      0.88      0.89      1719\n",
      "           4       0.94      0.91      0.93      1812\n",
      "           5       0.90      0.91      0.91      1768\n",
      "           6       0.90      0.89      0.90      1832\n",
      "           7       0.95      0.92      0.94      1808\n",
      "           8       0.88      0.90      0.89      1812\n",
      "           9       0.90      0.90      0.90      1804\n",
      "\n",
      "    accuracy                           0.91     18000\n",
      "   macro avg       0.91      0.91      0.91     18000\n",
      "weighted avg       0.91      0.91      0.91     18000\n",
      "\n"
     ]
    },
    {
     "data": {
      "image/png": "[encoded data removed]",
      "text/plain": [
       "<Figure size 576x360 with 2 Axes>"
      ]
     },
     "metadata": {
      "needs_background": "light"
     },
     "output_type": "display_data"
    }
   ],
   "source": [
    "#importing required functions\n",
    "from sklearn.metrics import classification_report\n",
    "from sklearn.metrics import confusion_matrix\n",
    "\n",
    "#Printing the classification report\n",
    "print(classification_report(y_test, test_pred))\n",
    "\n",
    "#Plotting the heatmap using confusion matrix\n",
    "cm = confusion_matrix(y_test, test_pred)\n",
    "plt.figure(figsize=(8,5))\n",
    "sns.heatmap(cm, annot=True,  fmt='.0f')\n",
    "plt.ylabel('Actual')\n",
    "plt.xlabel('Predicted')\n",
    "plt.show()"
   ]
  },
  {
   "cell_type": "markdown",
   "metadata": {
    "id": "DjErl4GA2u9s"
   },
   "source": [
    "#### **Observations:**\n",
    "- The CNN algorithm provides a higher accuracy in predicting house numbers than the ANN;\n",
    "- Two models were evaluated: a shallower model with 2 convolutional layer, and a deeper model with 4 convolutional layers;\n",
    "- The deeper model ouperforms the shallower model a provides a more accurate prediction;\n",
    "- The deeper model has a reduced overfitting and is sufficiently generalized;\n",
    "- The deeper model has less trainable parameters because it has more convolutional layers;\n",
    "- The smalles recall is around 90%, roughly a 20% increase when compared to ANN: it proves that CNN should be used for image classification problems;\n",
    "- The confusion matrix provides low out-of-diagonal values, meaning that predictions are accurate and digit confusions (mistaking a 5 for a 6) is removed by CNN;\n"
   ]
  }
 ],
 "metadata": {
  "accelerator": "GPU",
  "colab": {
   "collapsed_sections": [],
   "name": "FrancescoParisio_CNN.ipynb",
   "provenance": []
  },
  "kernelspec": {
   "display_name": "Python 3 (ipykernel)",
   "language": "python",
   "name": "python3"
  },
  "language_info": {
   "codemirror_mode": {
    "name": "ipython",
    "version": 3
   },
   "file_extension": ".py",
   "mimetype": "text/x-python",
   "name": "python",
   "nbconvert_exporter": "python",
   "pygments_lexer": "ipython3",
   "version": "3.8.12"
  }
 },
 "nbformat": 4,
 "nbformat_minor": 1
}
