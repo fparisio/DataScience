{
 "cells": [
  {
   "cell_type": "markdown",
   "metadata": {
    "id": "Q91KqmCRu64D"
   },
   "source": [
    "# **Convolutional neural networks to recognize digits**\n",
    "\n",
    "The project uses Convolutional Neural Networks to classify the Street View Housing Numbers (SVHN) image dataset for this project.\n",
    "\n",
    "---\n",
    "### **Context:** \n",
    "---\n",
    "\n",
    "Deep learning can be applied to recognize objects in natural scenes. The ability to process visual information using machine learning algorithms can be very useful as demonstrated in various applications.\n",
    "\n",
    "The SVHN dataset contains over 600,000 labeled digits cropped from street-level photos. It is one of the most popular image recognition datasets. It has been used in neural networks created by Google to improve map quality by automatically transcribing the address numbers from a patch of pixels. The transcribed number with a known street address helps pinpoint the location of the building it represents. \n",
    "\n",
    "---\n",
    "### **Objective:**\n",
    "---\n",
    "\n",
    "Build a CNN model that can identify the digits in the images.\n",
    "\n",
    "---\n",
    "### **Dataset**\n",
    "---\n",
    "\n",
    "The data is part of a Kaggle competition and can be downloaded at: https://www.kaggle.com/stanfordu/street-view-house-numbers\n",
    "Here, we will use a subset of the original data to save some computation time. The dataset is provided as a .h5 file. The basic preprocessing steps have been done."
   ]
  },
  {
   "cell_type": "markdown",
   "metadata": {
    "id": "C8U3DUa3eNsT"
   },
   "source": [
    "## **Importing libraries**"
   ]
  },
  {
   "cell_type": "code",
   "execution_count": 2,
   "metadata": {
    "id": "-dVzeuF3eQx1"
   },
   "outputs": [],
   "source": [
    "import numpy as np\n",
    "import pandas as pd\n",
    "import matplotlib.pyplot as plt\n",
    "import seaborn as sns\n",
    "\n",
    "from sklearn.model_selection import train_test_split\n",
    "from sklearn.preprocessing import MinMaxScaler\n",
    "\n",
    "import tensorflow as tf\n",
    "from tensorflow.keras.models import Sequential\n",
    "from tensorflow.keras.layers import Dense, Conv2D, MaxPool2D, BatchNormalization, Dropout, Flatten, LeakyReLU\n",
    "from tensorflow.keras.utils import to_categorical"
   ]
  },
  {
   "cell_type": "markdown",
   "metadata": {
    "id": "ucnevGLoyKf_"
   },
   "source": [
    "Check for the version of TensorFlow."
   ]
  },
  {
   "cell_type": "code",
   "execution_count": 3,
   "metadata": {
    "colab": {
     "base_uri": "https://localhost:8080/"
    },
    "id": "W5as47YxyJVk",
    "outputId": "2b933484-6aa1-45aa-d07c-3a2e3793ce9e"
   },
   "outputs": [
    {
     "name": "stdout",
     "output_type": "stream",
     "text": [
      "2.8.0\n"
     ]
    }
   ],
   "source": [
    "print(tf.__version__)"
   ]
  },
  {
   "cell_type": "markdown",
   "metadata": {
    "id": "8lsux2ZwyTTR"
   },
   "source": [
    "## **Load the dataset**\n",
    "- The dataset is a .h5 file (not available in the repo --> can be downloaded at https://www.kaggle.com/stanfordu/street-view-house-numbers)\n",
    "- The data is split into train and the test to avoid overfit"
   ]
  },
  {
   "cell_type": "code",
   "execution_count": 43,
   "metadata": {
    "colab": {
     "base_uri": "https://localhost:8080/"
    },
    "id": "BApX9qgNsqV0",
    "outputId": "e66d11f5-f464-43eb-df3c-c896132a921f",
    "scrolled": true
   },
   "outputs": [
    {
     "name": "stdout",
     "output_type": "stream",
     "text": [
      "Drive already mounted at /content/drive; to attempt to forcibly remount, call drive.mount(\"/content/drive\", force_remount=True).\n",
      "X_test\n",
      "X_train\n",
      "X_val\n",
      "y_test\n",
      "y_train\n",
      "y_val\n"
     ]
    }
   ],
   "source": [
    "import h5py\n",
    "\n",
    "# Download data at: https://www.kaggle.com/stanfordu/street-view-house-numbers\n",
    "\n",
    "# Open the file as read only\n",
    "# User can make changes in the path as required\n",
    "\n",
    "h5f = h5py.File('SVHN_single_grey1.h5', 'r')\n",
    "\n",
    "# Print the keys\n",
    "for key in h5f.keys():\n",
    "    print(key) #Names of the groups in HDF5 file.\n",
    "\n",
    "# Load the training and the test set\n",
    "X_train = h5f['X_train'][:]\n",
    "y_train = h5f['y_train'][:]\n",
    "X_test = h5f['X_test'][:]\n",
    "y_test = h5f['y_test'][:]\n",
    "X_val = h5f['X_val'][:]\n",
    "y_val = h5f['y_val'][:]\n",
    "\n",
    "# Close this file\n",
    "h5f.close()"
   ]
  },
  {
   "cell_type": "code",
   "execution_count": 44,
   "metadata": {
    "colab": {
     "base_uri": "https://localhost:8080/",
     "height": 284
    },
    "id": "FowP8xuT0cXa",
    "outputId": "52deff2a-e49f-4cfd-d66a-49334e07f576"
   },
   "outputs": [
    {
     "data": {
      "text/plain": [
       "<matplotlib.image.AxesImage at 0x7f007b240e50>"
      ]
     },
     "execution_count": 44,
     "metadata": {},
     "output_type": "execute_result"
    },
    {
     "data": {
      "image/png": "[encoded data removed]",
      "text/plain": [
       "<Figure size 432x288 with 1 Axes>"
      ]
     },
     "metadata": {
      "needs_background": "light"
     },
     "output_type": "display_data"
    }
   ],
   "source": [
    "# Plot a random image for checking purposes\n",
    "plt.imshow(X_train[np.random.randint(0,X_train.shape[0]-1),:,:])"
   ]
  },
  {
   "cell_type": "code",
   "execution_count": 45,
   "metadata": {
    "colab": {
     "base_uri": "https://localhost:8080/"
    },
    "id": "y3lwKpOefkpA",
    "outputId": "43981e71-5ca6-4f77-ce0a-e6eb0f8e3520"
   },
   "outputs": [
    {
     "data": {
      "text/plain": [
       "(42000, 18000, 60000)"
      ]
     },
     "execution_count": 45,
     "metadata": {},
     "output_type": "execute_result"
    }
   ],
   "source": [
    "# Check the number of images in the training and testing data.\n",
    "len(X_train), len(X_test), len(X_val)"
   ]
  },
  {
   "cell_type": "markdown",
   "metadata": {
    "id": "akTUOfLlgwoM"
   },
   "source": [
    "**Observations**\n",
    "- There are 42,000 images in the training data and 18,000 images in the testing data. "
   ]
  },
  {
   "cell_type": "markdown",
   "metadata": {
    "id": "kxODV6HKykuc"
   },
   "source": [
    "## **Visualizing images**"
   ]
  },
  {
   "cell_type": "code",
   "execution_count": 46,
   "metadata": {
    "colab": {
     "base_uri": "https://localhost:8080/",
     "height": 96
    },
    "id": "Bvsc8ytHsqWD",
    "outputId": "3c9a2c42-7a89-4f56-b070-36fac150f902"
   },
   "outputs": [
    {
     "data": {
      "image/png": "[encoded data removed]",
      "text/plain": [
       "<Figure size 720x72 with 10 Axes>"
      ]
     },
     "metadata": {
      "needs_background": "light"
     },
     "output_type": "display_data"
    },
    {
     "name": "stdout",
     "output_type": "stream",
     "text": [
      "label for each of the above image: [2 6 7 4 4 0 3 0 7 3]\n"
     ]
    }
   ],
   "source": [
    "# visualizing the first 10 images in the dataset and their labels\n",
    "plt.figure(figsize=(10, 1))\n",
    "\n",
    "for i in range(10):\n",
    "    plt.subplot(1, 10, i+1)\n",
    "    plt.imshow(X_train[i], cmap=\"inferno\") # write the function to visualize images\n",
    "    plt.axis('off')\n",
    "\n",
    "plt.show()\n",
    "print('label for each of the above image: %s' % (y_train[0:10]))"
   ]
  },
  {
   "cell_type": "markdown",
   "metadata": {
    "id": "kzoyeXHOy80N"
   },
   "source": [
    "## **Data Preparation**\n",
    "The following steps are performed to prepare the data for the analyses:\n",
    "- Check the shape of the images;\n",
    "- Reshape the train and the test dataset to make them fit the first convolutional operation\n",
    "- Normalize The train and the test dataset (dividing by 255)\n",
    "- The target variable will be processed and tranformed into one-hot encode"
   ]
  },
  {
   "cell_type": "code",
   "execution_count": 47,
   "metadata": {
    "colab": {
     "base_uri": "https://localhost:8080/"
    },
    "id": "D9YPwf9ysqWU",
    "outputId": "38c7893f-ed8c-4062-9239-26e38c926ad8"
   },
   "outputs": [
    {
     "name": "stdout",
     "output_type": "stream",
     "text": [
      "Shape: (32, 32)\n",
      "\n",
      "First image:\n",
      " [[ 33.0704  30.2601  26.852  ...  71.4471  58.2204  42.9939]\n",
      " [ 25.2283  25.5533  29.9765 ... 113.0209 103.3639  84.2949]\n",
      " [ 26.2775  22.6137  40.4763 ... 113.3028 121.775  115.4228]\n",
      " ...\n",
      " [ 28.5502  36.212   45.0801 ...  24.1359  25.0927  26.0603]\n",
      " [ 38.4352  26.4733  23.2717 ...  28.1094  29.4683  30.0661]\n",
      " [ 50.2984  26.0773  24.0389 ...  49.6682  50.853   53.0377]]\n",
      "Training set: (42000, 32, 32, 1) (42000,)\n",
      "Test set: (18000, 32, 32, 1) (18000,)\n",
      "Training label [[0. 0. 1. ... 0. 0. 0.]\n",
      " [0. 0. 0. ... 0. 0. 0.]\n",
      " [0. 0. 0. ... 1. 0. 0.]\n",
      " ...\n",
      " [0. 0. 0. ... 1. 0. 0.]\n",
      " [1. 0. 0. ... 0. 0. 0.]\n",
      " [0. 0. 0. ... 0. 0. 0.]]\n",
      "Testing label [[0. 1. 0. ... 0. 0. 0.]\n",
      " [0. 0. 0. ... 1. 0. 0.]\n",
      " [0. 0. 1. ... 0. 0. 0.]\n",
      " ...\n",
      " [0. 0. 0. ... 1. 0. 0.]\n",
      " [0. 0. 0. ... 0. 0. 1.]\n",
      " [0. 0. 1. ... 0. 0. 0.]]\n"
     ]
    }
   ],
   "source": [
    "# Shape of the images and the first image\n",
    "print(\"Shape:\", X_train[0].shape)\n",
    "print()\n",
    "print(\"First image:\\n\", X_train[0])\n",
    "\n",
    "# Reshaping the dataset by flatten them. 4D array must be given as CNNs input\n",
    "X_train = X_train.reshape(X_train.shape[0], 32,32,1)\n",
    "X_test = X_test.reshape(X_test.shape[0], 32,32,1)\n",
    "\n",
    "# Normalize inputs\n",
    "X_train = X_train / 255.0\n",
    "X_test = X_test / 255.0\n",
    "\n",
    "# Check reshape \n",
    "print('Training set:', X_train.shape, y_train.shape)\n",
    "print('Test set:', X_test.shape, y_test.shape)\n",
    "\n",
    "# One-hot encoding the output\n",
    "y_train = tf.keras.utils.to_categorical(y_train)\n",
    "y_test = tf.keras.utils.to_categorical(y_test)\n",
    "\n",
    "# Check the labels\n",
    "print('Training label', y_train)\n",
    "print('Testing label', y_test)"
   ]
  },
  {
   "cell_type": "markdown",
   "metadata": {
    "id": "yH-gVrzuByNA"
   },
   "source": [
    "## **CNN Model Building**"
   ]
  },
  {
   "cell_type": "code",
   "execution_count": 10,
   "metadata": {
    "id": "Cmi81Gr5sqW-"
   },
   "outputs": [],
   "source": [
    "#Fixing the seed for random number generators\n",
    "np.random.seed(42)\n",
    "import random\n",
    "random.seed(42)\n",
    "tf.random.set_seed(42)\n",
    "\n",
    "#Importing losses and optimizers modules\n",
    "from tensorflow.keras import losses\n",
    "from tensorflow.keras import optimizers\n",
    "\n",
    "#Define the function to build model architecture\n",
    "def cnn_model_1():\n",
    "    model = Sequential() \n",
    "    #Add layers as per the architecture mentioned above in the same sequence\n",
    "    model.add(Conv2D(filters=16, kernel_size=(3, 3), padding=\"same\", input_shape=(32, 32, 1)))\n",
    "    model.add(LeakyReLU(0.1))\n",
    "    model.add(Conv2D(filters=32, kernel_size=(3, 3), padding='same'))\n",
    "    model.add(LeakyReLU(0.1))\n",
    "    model.add(MaxPool2D(pool_size=(2, 2)))\n",
    "    model.add(Flatten())\n",
    "    model.add(Dense(32))\n",
    "    model.add(LeakyReLU(0.1))\n",
    "    model.add(Dense(10, activation='softmax'))\n",
    "\n",
    "    #declare adam optimizer with learning rate of 0.001 \n",
    "    adam = optimizers.Adamax(learning_rate=0.001)\n",
    "    \n",
    "    #compile the model\n",
    "    model.compile(loss = 'categorical_crossentropy', optimizer=adam, metrics=['accuracy'])\n",
    "    \n",
    "    return model"
   ]
  },
  {
   "cell_type": "code",
   "execution_count": 11,
   "metadata": {
    "colab": {
     "base_uri": "https://localhost:8080/"
    },
    "id": "bGCUI_xsImnH",
    "outputId": "f762cb2c-93b1-478b-bd99-febd7857fdc9"
   },
   "outputs": [
    {
     "name": "stdout",
     "output_type": "stream",
     "text": [
      "Model: \"sequential\"\n",
      "_________________________________________________________________\n",
      " Layer (type)                Output Shape              Param #   \n",
      "=================================================================\n",
      " conv2d (Conv2D)             (None, 32, 32, 16)        160       \n",
      "                                                                 \n",
      " leaky_re_lu (LeakyReLU)     (None, 32, 32, 16)        0         \n",
      "                                                                 \n",
      " conv2d_1 (Conv2D)           (None, 32, 32, 32)        4640      \n",
      "                                                                 \n",
      " leaky_re_lu_1 (LeakyReLU)   (None, 32, 32, 32)        0         \n",
      "                                                                 \n",
      " max_pooling2d (MaxPooling2D  (None, 16, 16, 32)       0         \n",
      " )                                                               \n",
      "                                                                 \n",
      " flatten (Flatten)           (None, 8192)              0         \n",
      "                                                                 \n",
      " dense (Dense)               (None, 32)                262176    \n",
      "                                                                 \n",
      " leaky_re_lu_2 (LeakyReLU)   (None, 32)                0         \n",
      "                                                                 \n",
      " dense_1 (Dense)             (None, 10)                330       \n",
      "                                                                 \n",
      "=================================================================\n",
      "Total params: 267,306\n",
      "Trainable params: 267,306\n",
      "Non-trainable params: 0\n",
      "_________________________________________________________________\n"
     ]
    },
    {
     "data": {
      "text/plain": [
       "True"
      ]
     },
     "execution_count": 11,
     "metadata": {},
     "output_type": "execute_result"
    }
   ],
   "source": [
    "#Build the model\n",
    "model_1 = cnn_model_1()\n",
    "\n",
    "#Print the model summary\n",
    "model_1.summary()\n",
    "\n",
    "import pydot\n",
    "\n",
    "#Build dot model to export\n",
    "dot_mod = tf.keras.utils.model_to_dot(model_1,show_shapes=False,show_dtype=False,show_layer_names=False,rankdir=\"LR\",expand_nested=False,dpi=96,subgraph=False,layer_range=None,show_layer_activations=False,)\n",
    "#Export dot to png of CNN architecture\n",
    "dot_mod.write_png('GraphCNN.png')"
   ]
  },
  {
   "cell_type": "code",
   "execution_count": 12,
   "metadata": {
    "colab": {
     "base_uri": "https://localhost:8080/"
    },
    "id": "3Fy3Dif_zcCk",
    "outputId": "3e37ea98-8c7d-41d0-85fd-579e447fc439"
   },
   "outputs": [
    {
     "name": "stdout",
     "output_type": "stream",
     "text": [
      "Epoch 1/20\n",
      "1050/1050 [==============================] - 23s 14ms/step - loss: 1.7238 - accuracy: 0.4384 - val_loss: 1.0959 - val_accuracy: 0.6763\n",
      "Epoch 2/20\n",
      "1050/1050 [==============================] - 12s 11ms/step - loss: 0.8502 - accuracy: 0.7550 - val_loss: 0.7191 - val_accuracy: 0.7981\n",
      "Epoch 3/20\n",
      "1050/1050 [==============================] - 12s 11ms/step - loss: 0.6511 - accuracy: 0.8115 - val_loss: 0.6441 - val_accuracy: 0.8175\n",
      "Epoch 4/20\n",
      "1050/1050 [==============================] - 11s 11ms/step - loss: 0.5739 - accuracy: 0.8352 - val_loss: 0.5866 - val_accuracy: 0.8320\n",
      "Epoch 5/20\n",
      "1050/1050 [==============================] - 10s 10ms/step - loss: 0.5315 - accuracy: 0.8477 - val_loss: 0.5827 - val_accuracy: 0.8387\n",
      "Epoch 6/20\n",
      "1050/1050 [==============================] - 10s 10ms/step - loss: 0.4951 - accuracy: 0.8594 - val_loss: 0.5708 - val_accuracy: 0.8355\n",
      "Epoch 7/20\n",
      "1050/1050 [==============================] - 11s 11ms/step - loss: 0.4733 - accuracy: 0.8644 - val_loss: 0.5205 - val_accuracy: 0.8565\n",
      "Epoch 8/20\n",
      "1050/1050 [==============================] - 10s 10ms/step - loss: 0.4517 - accuracy: 0.8700 - val_loss: 0.5291 - val_accuracy: 0.8506\n",
      "Epoch 9/20\n",
      "1050/1050 [==============================] - 11s 10ms/step - loss: 0.4278 - accuracy: 0.8768 - val_loss: 0.5133 - val_accuracy: 0.8573\n",
      "Epoch 10/20\n",
      "1050/1050 [==============================] - 10s 10ms/step - loss: 0.4131 - accuracy: 0.8801 - val_loss: 0.4965 - val_accuracy: 0.8646\n",
      "Epoch 11/20\n",
      "1050/1050 [==============================] - 11s 10ms/step - loss: 0.3931 - accuracy: 0.8863 - val_loss: 0.5287 - val_accuracy: 0.8556\n",
      "Epoch 12/20\n",
      "1050/1050 [==============================] - 11s 10ms/step - loss: 0.3781 - accuracy: 0.8886 - val_loss: 0.4948 - val_accuracy: 0.8637\n",
      "Epoch 13/20\n",
      "1050/1050 [==============================] - 11s 10ms/step - loss: 0.3615 - accuracy: 0.8940 - val_loss: 0.5151 - val_accuracy: 0.8582\n",
      "Epoch 14/20\n",
      "1050/1050 [==============================] - 11s 10ms/step - loss: 0.3474 - accuracy: 0.8987 - val_loss: 0.4914 - val_accuracy: 0.8667\n",
      "Epoch 15/20\n",
      "1050/1050 [==============================] - 10s 10ms/step - loss: 0.3366 - accuracy: 0.9019 - val_loss: 0.4922 - val_accuracy: 0.8657\n",
      "Epoch 16/20\n",
      "1050/1050 [==============================] - 10s 10ms/step - loss: 0.3236 - accuracy: 0.9055 - val_loss: 0.4844 - val_accuracy: 0.8656\n",
      "Epoch 17/20\n",
      "1050/1050 [==============================] - 11s 10ms/step - loss: 0.3127 - accuracy: 0.9079 - val_loss: 0.4800 - val_accuracy: 0.8706\n",
      "Epoch 18/20\n",
      "1050/1050 [==============================] - 10s 10ms/step - loss: 0.2988 - accuracy: 0.9134 - val_loss: 0.4806 - val_accuracy: 0.8696\n",
      "Epoch 19/20\n",
      "1050/1050 [==============================] - 11s 10ms/step - loss: 0.2870 - accuracy: 0.9159 - val_loss: 0.4687 - val_accuracy: 0.8746\n",
      "Epoch 20/20\n",
      "1050/1050 [==============================] - 13s 12ms/step - loss: 0.2764 - accuracy: 0.9190 - val_loss: 0.4763 - val_accuracy: 0.8736\n"
     ]
    }
   ],
   "source": [
    "# Fit the model\n",
    "history_model_1 = model_1.fit(X_train,y_train,validation_split=0.2,batch_size=32,epochs=20,verbose=1)"
   ]
  },
  {
   "cell_type": "markdown",
   "metadata": {
    "id": "tKOckG-KPyLg"
   },
   "source": [
    "### **Plotting the validation and training accuracies and losses**"
   ]
  },
  {
   "cell_type": "code",
   "execution_count": 25,
   "metadata": {
    "id": "-8Q6h-xFFyH6"
   },
   "outputs": [],
   "source": [
    "#Plotting function for hisotry of CNN\n",
    "def PlotMetricsCNN(Model, axis, *args):\n",
    "  for i in args:\n",
    "    axis.plot(Model.history[i], label=i)"
   ]
  },
  {
   "cell_type": "code",
   "execution_count": 29,
   "metadata": {
    "colab": {
     "base_uri": "https://localhost:8080/",
     "height": 279
    },
    "id": "r2b7jnapFz92",
    "outputId": "5c96fe5a-8955-4bd8-9a55-4f80c59065b5"
   },
   "outputs": [
    {
     "data": {
      "image/png": "[encoded data removed]",
      "text/plain": [
       "<Figure size 360x288 with 1 Axes>"
      ]
     },
     "metadata": {
      "needs_background": "light"
     },
     "output_type": "display_data"
    }
   ],
   "source": [
    "#Plot the accuracy\n",
    "fig, ax = plt.subplots(1,1,figsize=(5,4))\n",
    "PlotMetricsCNN(history_model_1, ax, 'accuracy', 'val_accuracy')\n",
    "plt.xlabel('Epoch')\n",
    "plt.ylabel('Accuracy')\n",
    "plt.legend()\n",
    "plt.show()"
   ]
  },
  {
   "cell_type": "code",
   "execution_count": 30,
   "metadata": {
    "colab": {
     "base_uri": "https://localhost:8080/",
     "height": 279
    },
    "id": "ZjdZQkVBBMEi",
    "outputId": "27c456d2-bdc0-4bb8-c7c2-e51de9a7818a"
   },
   "outputs": [
    {
     "data": {
      "image/png": "[encoded data removed]",
      "text/plain": [
       "<Figure size 360x288 with 1 Axes>"
      ]
     },
     "metadata": {
      "needs_background": "light"
     },
     "output_type": "display_data"
    }
   ],
   "source": [
    "#Plot the loss\n",
    "fig, ax = plt.subplots(1,1,figsize=(5,4))\n",
    "PlotMetricsCNN(history_model_1, ax, 'loss', 'val_loss')\n",
    "plt.xlabel('Epoch')\n",
    "plt.ylabel('Error')\n",
    "plt.legend()\n",
    "plt.show()"
   ]
  },
  {
   "cell_type": "markdown",
   "metadata": {
    "id": "pGBbQpLONX7k"
   },
   "source": [
    "**Observations:**\n",
    "- The model slightly overfits the data (accuracy of validation $<$ accuracy of training);\n",
    "- Overfit can be reduced by improving the model; "
   ]
  },
  {
   "cell_type": "markdown",
   "metadata": {
    "id": "z0qgLMBZm5-K"
   },
   "source": [
    "Here, I build another model and to get a more generalized performance. First, the previous model's history is cleared from the keras backend."
   ]
  },
  {
   "cell_type": "code",
   "execution_count": 31,
   "metadata": {
    "id": "HbKi93HTolGW"
   },
   "outputs": [],
   "source": [
    "#Clearing backend\n",
    "from tensorflow.keras import backend\n",
    "backend.clear_session()\n",
    "\n",
    "#Fixing the seed for random number generators\n",
    "np.random.seed(42)\n",
    "import random\n",
    "random.seed(42)\n",
    "tf.random.set_seed(42)"
   ]
  },
  {
   "cell_type": "markdown",
   "metadata": {
    "id": "lT6o3TIKuCtk"
   },
   "source": [
    "### **Second Model Architecture**\n",
    "Compared to the previous architecture, the new model has two additional convolutional layers that are followed each by a batch normalization layer placed after the max-pooling layer. Furthermore, a dropout layer with rate 0.5 is placed before the final softmax layer. The model is further trained for 30 epochs."
   ]
  },
  {
   "cell_type": "code",
   "execution_count": 33,
   "metadata": {
    "colab": {
     "base_uri": "https://localhost:8080/"
    },
    "id": "EEPYLFIPnSDP",
    "outputId": "8f45f0bf-fa79-488d-eeaf-76e1cf9587ee"
   },
   "outputs": [
    {
     "name": "stdout",
     "output_type": "stream",
     "text": [
      "Model: \"sequential_1\"\n",
      "_________________________________________________________________\n",
      " Layer (type)                Output Shape              Param #   \n",
      "=================================================================\n",
      " conv2d_4 (Conv2D)           (None, 32, 32, 16)        160       \n",
      "                                                                 \n",
      " leaky_re_lu_5 (LeakyReLU)   (None, 32, 32, 16)        0         \n",
      "                                                                 \n",
      " conv2d_5 (Conv2D)           (None, 32, 32, 32)        4640      \n",
      "                                                                 \n",
      " leaky_re_lu_6 (LeakyReLU)   (None, 32, 32, 32)        0         \n",
      "                                                                 \n",
      " max_pooling2d_2 (MaxPooling  (None, 16, 16, 32)       0         \n",
      " 2D)                                                             \n",
      "                                                                 \n",
      " batch_normalization_2 (Batc  (None, 16, 16, 32)       128       \n",
      " hNormalization)                                                 \n",
      "                                                                 \n",
      " conv2d_6 (Conv2D)           (None, 16, 16, 32)        9248      \n",
      "                                                                 \n",
      " leaky_re_lu_7 (LeakyReLU)   (None, 16, 16, 32)        0         \n",
      "                                                                 \n",
      " conv2d_7 (Conv2D)           (None, 16, 16, 64)        18496     \n",
      "                                                                 \n",
      " leaky_re_lu_8 (LeakyReLU)   (None, 16, 16, 64)        0         \n",
      "                                                                 \n",
      " max_pooling2d_3 (MaxPooling  (None, 8, 8, 64)         0         \n",
      " 2D)                                                             \n",
      "                                                                 \n",
      " batch_normalization_3 (Batc  (None, 8, 8, 64)         256       \n",
      " hNormalization)                                                 \n",
      "                                                                 \n",
      " flatten_1 (Flatten)         (None, 4096)              0         \n",
      "                                                                 \n",
      " dense_2 (Dense)             (None, 32)                131104    \n",
      "                                                                 \n",
      " leaky_re_lu_9 (LeakyReLU)   (None, 32)                0         \n",
      "                                                                 \n",
      " dropout_1 (Dropout)         (None, 32)                0         \n",
      "                                                                 \n",
      " dense_3 (Dense)             (None, 10)                330       \n",
      "                                                                 \n",
      "=================================================================\n",
      "Total params: 164,362\n",
      "Trainable params: 164,170\n",
      "Non-trainable params: 192\n",
      "_________________________________________________________________\n"
     ]
    },
    {
     "data": {
      "text/plain": [
       "True"
      ]
     },
     "execution_count": 33,
     "metadata": {},
     "output_type": "execute_result"
    }
   ],
   "source": [
    "#Define the function\n",
    "def cnn_model_2():\n",
    "    model = Sequential() \n",
    "    #Add layers as per the architecture mentioned above in the same sequence\n",
    "    model.add(Conv2D(filters=16, kernel_size=(3, 3), padding=\"same\", input_shape=(32, 32, 1)))\n",
    "    model.add(LeakyReLU(0.1))\n",
    "    model.add(Conv2D(filters=32, kernel_size=(3, 3), padding='same'))\n",
    "    model.add(LeakyReLU(0.1))\n",
    "    model.add(MaxPool2D(pool_size=(2, 2)))\n",
    "    model.add(BatchNormalization())\n",
    "    model.add(Conv2D(filters=32, kernel_size=(3, 3), padding='same'))\n",
    "    model.add(LeakyReLU(0.1))\n",
    "    model.add(Conv2D(filters=64, kernel_size=(3, 3), padding='same'))\n",
    "    model.add(LeakyReLU(0.1))\n",
    "    model.add(MaxPool2D(pool_size=(2, 2)))\n",
    "    model.add(BatchNormalization())\n",
    "    model.add(Flatten())\n",
    "    model.add(Dense(32))\n",
    "    model.add(LeakyReLU(0.1))\n",
    "    model.add(Dropout(0.5))\n",
    "    model.add(Dense(10, activation='softmax'))   \n",
    "    \n",
    "    #declare adam optimizer with learning rate of 0.001 \n",
    "    adam = optimizers.Adamax(learning_rate=0.001)\n",
    "    \n",
    "    #compile the model\n",
    "    model.compile(loss = 'categorical_crossentropy', optimizer=adam, metrics=['accuracy'])\n",
    "    \n",
    "    return model\n",
    "\n",
    "# Build the model\n",
    "model_2 = cnn_model_2()\n",
    "\n",
    "#Print the summary\n",
    "model_2.summary()\n",
    "\n",
    "#Build dot model to export\n",
    "dot_mod = tf.keras.utils.model_to_dot(model_2,show_shapes=False,show_dtype=False,show_layer_names=False,rankdir=\"LR\",expand_nested=False,dpi=96,subgraph=False,layer_range=None,show_layer_activations=False,)\n",
    "#Export dot to png of CNN architecture\n",
    "dot_mod.write_png('GraphCNN_2.png')"
   ]
  },
  {
   "cell_type": "code",
   "execution_count": 34,
   "metadata": {
    "colab": {
     "base_uri": "https://localhost:8080/"
    },
    "id": "IQ0Sc4R-y-uu",
    "outputId": "709e33d8-f21d-424e-f1d0-2523fe679539"
   },
   "outputs": [
    {
     "name": "stdout",
     "output_type": "stream",
     "text": [
      "Epoch 1/30\n",
      "263/263 [==============================] - 8s 24ms/step - loss: 1.6786 - accuracy: 0.4100 - val_loss: 2.1463 - val_accuracy: 0.2701\n",
      "Epoch 2/30\n",
      "263/263 [==============================] - 6s 22ms/step - loss: 0.8567 - accuracy: 0.7286 - val_loss: 0.6754 - val_accuracy: 0.8073\n",
      "Epoch 3/30\n",
      "263/263 [==============================] - 6s 22ms/step - loss: 0.6993 - accuracy: 0.7811 - val_loss: 0.5589 - val_accuracy: 0.8313\n",
      "Epoch 4/30\n",
      "263/263 [==============================] - 7s 25ms/step - loss: 0.6180 - accuracy: 0.8114 - val_loss: 0.4484 - val_accuracy: 0.8670\n",
      "Epoch 5/30\n",
      "263/263 [==============================] - 8s 30ms/step - loss: 0.5564 - accuracy: 0.8280 - val_loss: 0.4936 - val_accuracy: 0.8606\n",
      "Epoch 6/30\n",
      "263/263 [==============================] - 6s 24ms/step - loss: 0.5170 - accuracy: 0.8413 - val_loss: 0.4508 - val_accuracy: 0.8713\n",
      "Epoch 7/30\n",
      "263/263 [==============================] - 6s 23ms/step - loss: 0.4791 - accuracy: 0.8537 - val_loss: 0.3966 - val_accuracy: 0.8821\n",
      "Epoch 8/30\n",
      "263/263 [==============================] - 7s 27ms/step - loss: 0.4508 - accuracy: 0.8633 - val_loss: 0.4583 - val_accuracy: 0.8699\n",
      "Epoch 9/30\n",
      "263/263 [==============================] - 6s 24ms/step - loss: 0.4242 - accuracy: 0.8691 - val_loss: 0.3884 - val_accuracy: 0.8913\n",
      "Epoch 10/30\n",
      "263/263 [==============================] - 6s 22ms/step - loss: 0.4074 - accuracy: 0.8743 - val_loss: 0.3598 - val_accuracy: 0.8981\n",
      "Epoch 11/30\n",
      "263/263 [==============================] - 6s 22ms/step - loss: 0.3859 - accuracy: 0.8822 - val_loss: 0.3829 - val_accuracy: 0.8912\n",
      "Epoch 12/30\n",
      "263/263 [==============================] - 6s 22ms/step - loss: 0.3708 - accuracy: 0.8856 - val_loss: 0.3663 - val_accuracy: 0.9000\n",
      "Epoch 13/30\n",
      "263/263 [==============================] - 6s 22ms/step - loss: 0.3556 - accuracy: 0.8905 - val_loss: 0.3815 - val_accuracy: 0.8930\n",
      "Epoch 14/30\n",
      "263/263 [==============================] - 6s 22ms/step - loss: 0.3379 - accuracy: 0.8971 - val_loss: 0.3668 - val_accuracy: 0.8985\n",
      "Epoch 15/30\n",
      "263/263 [==============================] - 6s 23ms/step - loss: 0.3294 - accuracy: 0.8975 - val_loss: 0.3614 - val_accuracy: 0.9025\n",
      "Epoch 16/30\n",
      "263/263 [==============================] - 7s 26ms/step - loss: 0.3178 - accuracy: 0.9006 - val_loss: 0.3507 - val_accuracy: 0.9014\n",
      "Epoch 17/30\n",
      "263/263 [==============================] - 6s 22ms/step - loss: 0.2987 - accuracy: 0.9060 - val_loss: 0.3600 - val_accuracy: 0.9023\n",
      "Epoch 18/30\n",
      "263/263 [==============================] - 6s 22ms/step - loss: 0.2878 - accuracy: 0.9084 - val_loss: 0.3824 - val_accuracy: 0.8917\n",
      "Epoch 19/30\n",
      "263/263 [==============================] - 6s 23ms/step - loss: 0.2793 - accuracy: 0.9123 - val_loss: 0.3544 - val_accuracy: 0.9046\n",
      "Epoch 20/30\n",
      "263/263 [==============================] - 6s 22ms/step - loss: 0.2695 - accuracy: 0.9134 - val_loss: 0.3384 - val_accuracy: 0.9085\n",
      "Epoch 21/30\n",
      "263/263 [==============================] - 6s 22ms/step - loss: 0.2566 - accuracy: 0.9171 - val_loss: 0.3486 - val_accuracy: 0.9050\n",
      "Epoch 22/30\n",
      "263/263 [==============================] - 6s 22ms/step - loss: 0.2472 - accuracy: 0.9204 - val_loss: 0.3769 - val_accuracy: 0.8983\n",
      "Epoch 23/30\n",
      "263/263 [==============================] - 6s 22ms/step - loss: 0.2425 - accuracy: 0.9214 - val_loss: 0.3538 - val_accuracy: 0.9048\n",
      "Epoch 24/30\n",
      "263/263 [==============================] - 6s 22ms/step - loss: 0.2390 - accuracy: 0.9235 - val_loss: 0.3516 - val_accuracy: 0.9057\n",
      "Epoch 25/30\n",
      "263/263 [==============================] - 6s 22ms/step - loss: 0.2250 - accuracy: 0.9268 - val_loss: 0.3936 - val_accuracy: 0.9049\n",
      "Epoch 26/30\n",
      "263/263 [==============================] - 6s 22ms/step - loss: 0.2177 - accuracy: 0.9287 - val_loss: 0.3566 - val_accuracy: 0.9071\n",
      "Epoch 27/30\n",
      "263/263 [==============================] - 6s 22ms/step - loss: 0.2164 - accuracy: 0.9311 - val_loss: 0.3713 - val_accuracy: 0.9086\n",
      "Epoch 28/30\n",
      "263/263 [==============================] - 6s 22ms/step - loss: 0.2077 - accuracy: 0.9315 - val_loss: 0.3651 - val_accuracy: 0.9054\n",
      "Epoch 29/30\n",
      "263/263 [==============================] - 6s 22ms/step - loss: 0.1948 - accuracy: 0.9358 - val_loss: 0.3878 - val_accuracy: 0.9033\n",
      "Epoch 30/30\n",
      "263/263 [==============================] - 6s 22ms/step - loss: 0.1909 - accuracy: 0.9376 - val_loss: 0.4019 - val_accuracy: 0.9069\n"
     ]
    }
   ],
   "source": [
    "# Fit the model\n",
    "history_model_2 = model_2.fit(X_train,y_train,validation_split=0.2,batch_size=128,epochs=30,verbose=1)"
   ]
  },
  {
   "cell_type": "markdown",
   "metadata": {
    "id": "0_f1EXmTe2TK"
   },
   "source": [
    "### **Plotting the validation and training accuracies**"
   ]
  },
  {
   "cell_type": "code",
   "execution_count": 35,
   "metadata": {
    "colab": {
     "base_uri": "https://localhost:8080/",
     "height": 279
    },
    "id": "01ig6BrF1KVy",
    "outputId": "2003e6a0-b8f0-4dc3-94b3-121f3d5d7a96"
   },
   "outputs": [
    {
     "data": {
      "image/png": "[encoded data removed]",
      "text/plain": [
       "<Figure size 360x288 with 1 Axes>"
      ]
     },
     "metadata": {
      "needs_background": "light"
     },
     "output_type": "display_data"
    }
   ],
   "source": [
    "#Plot the accuracy\n",
    "fig, ax = plt.subplots(1,1,figsize=(5,4))\n",
    "PlotMetricsCNN(history_model_2, ax, 'accuracy', 'val_accuracy')\n",
    "plt.xlabel('Epoch')\n",
    "plt.ylabel('Accuracy')\n",
    "plt.legend()\n",
    "plt.show()"
   ]
  },
  {
   "cell_type": "code",
   "execution_count": 36,
   "metadata": {
    "colab": {
     "base_uri": "https://localhost:8080/",
     "height": 279
    },
    "id": "2-V67bxZDkbb",
    "outputId": "d7560314-597b-481a-d241-581e5e697010"
   },
   "outputs": [
    {
     "data": {
      "image/png": "[encoded data removed]",
      "text/plain": [
       "<Figure size 360x288 with 1 Axes>"
      ]
     },
     "metadata": {
      "needs_background": "light"
     },
     "output_type": "display_data"
    }
   ],
   "source": [
    "#Plot the loss\n",
    "fig, ax = plt.subplots(1,1,figsize=(5,4))\n",
    "PlotMetricsCNN(history_model_2, ax, 'loss', 'val_loss')\n",
    "plt.xlabel('Epoch')\n",
    "plt.ylabel('Error')\n",
    "plt.legend()\n",
    "plt.show()"
   ]
  },
  {
   "cell_type": "markdown",
   "metadata": {
    "id": "VPW1LlD61RDn"
   },
   "source": [
    "**Observations:**\n",
    "- This model makes use of regularization strategies such as batch normalization and dropout learning;\n",
    "- The model is deeper than the previous one and uses more convolutional layers;\n",
    "- Despite the fact that model_2 is deeper than model_1, it has less trainable parameters: this can be explained by the fact that more than one convolutional layer is used as well as pooling has been employed twice;\n",
    "- The model shows a better preformance and the accuracy on the validation dataset is well balanced and close to the accuracy of the training dataset;\n",
    "- The deeper network with additional convolutional layers has made the model more accurate but also more generalized;"
   ]
  },
  {
   "cell_type": "markdown",
   "metadata": {
    "id": "8kuXx9Bvu00f"
   },
   "source": [
    "## **Predictions on the test data**"
   ]
  },
  {
   "cell_type": "code",
   "execution_count": 38,
   "metadata": {
    "id": "xbWMEtTj5Ad0"
   },
   "outputs": [],
   "source": [
    "#Make prediction on the test data using model_2 \n",
    "test_pred = model_2.predict(X_test)\n",
    "\n",
    "test_pred = np.argmax(test_pred, axis=-1)"
   ]
  },
  {
   "cell_type": "markdown",
   "metadata": {
    "id": "i3li8Ib08yts"
   },
   "source": [
    "In order to print the classification report and confusion matrix, each one-hot-encoded label is transformed back into single value."
   ]
  },
  {
   "cell_type": "code",
   "execution_count": 48,
   "metadata": {
    "id": "NByu7uAQ8x9P"
   },
   "outputs": [],
   "source": [
    "#Converting each entry to single label from one-hot encoded vector\n",
    "y_test_reconv = np.argmax(y_test, axis=-1)"
   ]
  },
  {
   "cell_type": "code",
   "execution_count": 62,
   "metadata": {
    "colab": {
     "base_uri": "https://localhost:8080/",
     "height": 638
    },
    "id": "xRddeJ-3EHT1",
    "outputId": "b4d9fa8f-6d86-4b23-8970-32626aa6d8f6"
   },
   "outputs": [
    {
     "name": "stdout",
     "output_type": "stream",
     "text": [
      "              precision    recall  f1-score   support\n",
      "\n",
      "           0       0.92      0.94      0.93      1814\n",
      "           1       0.91      0.91      0.91      1828\n",
      "           2       0.93      0.92      0.92      1803\n",
      "           3       0.85      0.87      0.86      1719\n",
      "           4       0.94      0.91      0.92      1812\n",
      "           5       0.87      0.92      0.89      1768\n",
      "           6       0.91      0.89      0.90      1832\n",
      "           7       0.95      0.92      0.93      1808\n",
      "           8       0.88      0.89      0.89      1812\n",
      "           9       0.91      0.89      0.90      1804\n",
      "\n",
      "    accuracy                           0.91     18000\n",
      "   macro avg       0.91      0.91      0.91     18000\n",
      "weighted avg       0.91      0.91      0.91     18000\n",
      "\n"
     ]
    },
    {
     "data": {
      "image/png": "[encoded data removed]",
      "text/plain": [
       "<Figure size 576x360 with 2 Axes>"
      ]
     },
     "metadata": {
      "needs_background": "light"
     },
     "output_type": "display_data"
    }
   ],
   "source": [
    "#importing required functions\n",
    "from sklearn.metrics import classification_report\n",
    "from sklearn.metrics import confusion_matrix\n",
    "\n",
    "#Printing the classification report\n",
    "print(classification_report(y_test_reconv, test_pred))\n",
    "\n",
    "#Plotting the heatmap using confusion matrix\n",
    "cm = confusion_matrix(y_test_reconv, test_pred)\n",
    "plt.figure(figsize=(8,5))\n",
    "sns.heatmap(cm, annot=True,  fmt='.0f', cmap='viridis')\n",
    "plt.ylabel('Actual')\n",
    "plt.xlabel('Predicted')\n",
    "plt.show()"
   ]
  },
  {
   "cell_type": "markdown",
   "metadata": {
    "id": "DjErl4GA2u9s"
   },
   "source": [
    "#### **Observations:**\n",
    "- Two models were evaluated: a shallower model with 2 convolutional layer, and a deeper model with 4 convolutional layers;\n",
    "- The deeper model ouperforms the shallower model a provides a more accurate prediction;\n",
    "- The deeper model has a reduced overfitting and is sufficiently generalized;\n",
    "- The deeper model has less trainable parameters because it has more convolutional layers;\n",
    "- The smallest recall is around 90%;\n",
    "- The confusion matrix provides low out-of-diagonal values, meaning that predictions are accurate and digit confusions (mistaking a 5 for a 6) is low in the CNN;\n"
   ]
  },
  {
   "cell_type": "code",
   "execution_count": null,
   "metadata": {},
   "outputs": [],
   "source": []
  }
 ],
 "metadata": {
  "accelerator": "GPU",
  "colab": {
   "collapsed_sections": [],
   "name": "DigitRecognitionCNN.ipynb",
   "provenance": []
  },
  "kernelspec": {
   "display_name": "Python 3 (ipykernel)",
   "language": "python",
   "name": "python3"
  },
  "language_info": {
   "codemirror_mode": {
    "name": "ipython",
    "version": 3
   },
   "file_extension": ".py",
   "mimetype": "text/x-python",
   "name": "python",
   "nbconvert_exporter": "python",
   "pygments_lexer": "ipython3",
   "version": "3.8.12"
  }
 },
 "nbformat": 4,
 "nbformat_minor": 1
}
